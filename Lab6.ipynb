{
 "cells": [
  {
   "cell_type": "markdown",
   "metadata": {},
   "source": [
    "# Лабораторная работа 6"
   ]
  },
  {
   "cell_type": "markdown",
   "metadata": {},
   "source": [
    "## 1. Выбор начальных условий"
   ]
  },
  {
   "cell_type": "markdown",
   "metadata": {},
   "source": [
    "### a. набор данных"
   ]
  },
  {
   "cell_type": "markdown",
   "metadata": {},
   "source": [
    "Был выбран датасет классификации эмоций человека. Задача может иметь множество приложений в реальной жизни. Например, подобная система может использоваться для анализа и предсказания поведения людей\n",
    "\n",
    "https://www.kaggle.com/datasets/sayakbera/fer-2013-7-emotions-uniform-dataset"
   ]
  },
  {
   "cell_type": "code",
   "execution_count": null,
   "metadata": {},
   "outputs": [
    {
     "name": "stdout",
     "output_type": "stream",
     "text": [
      "Requirement already satisfied: kaggle in d:\\code\\ai_labs_2\\.venv\\lib\\site-packages (1.7.4.2)\n",
      "Requirement already satisfied: bleach in d:\\code\\ai_labs_2\\.venv\\lib\\site-packages (from kaggle) (6.2.0)\n",
      "Requirement already satisfied: certifi>=14.05.14 in d:\\code\\ai_labs_2\\.venv\\lib\\site-packages (from kaggle) (2025.1.31)\n",
      "Requirement already satisfied: charset-normalizer in d:\\code\\ai_labs_2\\.venv\\lib\\site-packages (from kaggle) (3.4.1)\n",
      "Requirement already satisfied: idna in d:\\code\\ai_labs_2\\.venv\\lib\\site-packages (from kaggle) (3.10)\n",
      "Requirement already satisfied: protobuf in d:\\code\\ai_labs_2\\.venv\\lib\\site-packages (from kaggle) (6.30.2)\n",
      "Requirement already satisfied: python-dateutil>=2.5.3 in d:\\code\\ai_labs_2\\.venv\\lib\\site-packages (from kaggle) (2.9.0.post0)\n",
      "Requirement already satisfied: python-slugify in d:\\code\\ai_labs_2\\.venv\\lib\\site-packages (from kaggle) (8.0.4)\n",
      "Requirement already satisfied: requests in d:\\code\\ai_labs_2\\.venv\\lib\\site-packages (from kaggle) (2.32.3)\n",
      "Requirement already satisfied: setuptools>=21.0.0 in d:\\code\\ai_labs_2\\.venv\\lib\\site-packages (from kaggle) (78.1.0)\n",
      "Requirement already satisfied: six>=1.10 in d:\\code\\ai_labs_2\\.venv\\lib\\site-packages (from kaggle) (1.17.0)\n",
      "Requirement already satisfied: text-unidecode in d:\\code\\ai_labs_2\\.venv\\lib\\site-packages (from kaggle) (1.3)\n",
      "Requirement already satisfied: tqdm in d:\\code\\ai_labs_2\\.venv\\lib\\site-packages (from kaggle) (4.67.1)\n",
      "Requirement already satisfied: urllib3>=1.15.1 in d:\\code\\ai_labs_2\\.venv\\lib\\site-packages (from kaggle) (2.3.0)\n",
      "Requirement already satisfied: webencodings in d:\\code\\ai_labs_2\\.venv\\lib\\site-packages (from kaggle) (0.5.1)\n",
      "Requirement already satisfied: colorama in d:\\code\\ai_labs_2\\.venv\\lib\\site-packages (from tqdm->kaggle) (0.4.6)\n",
      "Requirement already satisfied: pandas in d:\\code\\ai_labs_2\\.venv\\lib\\site-packages (2.2.3)\n",
      "Requirement already satisfied: numpy>=1.26.0 in d:\\code\\ai_labs_2\\.venv\\lib\\site-packages (from pandas) (2.2.4)\n",
      "Requirement already satisfied: python-dateutil>=2.8.2 in d:\\code\\ai_labs_2\\.venv\\lib\\site-packages (from pandas) (2.9.0.post0)\n",
      "Requirement already satisfied: pytz>=2020.1 in d:\\code\\ai_labs_2\\.venv\\lib\\site-packages (from pandas) (2025.2)\n",
      "Requirement already satisfied: tzdata>=2022.7 in d:\\code\\ai_labs_2\\.venv\\lib\\site-packages (from pandas) (2025.2)\n",
      "Requirement already satisfied: six>=1.5 in d:\\code\\ai_labs_2\\.venv\\lib\\site-packages (from python-dateutil>=2.8.2->pandas) (1.17.0)\n"
     ]
    }
   ],
   "source": [
    "!pip install kaggle\n",
    "!pip install pandas"
   ]
  },
  {
   "cell_type": "code",
   "execution_count": 3,
   "metadata": {},
   "outputs": [
    {
     "name": "stdout",
     "output_type": "stream",
     "text": [
      "Dataset URL: https://www.kaggle.com/datasets/sayakbera/fer-2013-7-emotions-uniform-dataset\n",
      "License(s): unknown\n"
     ]
    }
   ],
   "source": [
    "!kaggle datasets download -d sayakbera/fer-2013-7-emotions-uniform-dataset -p data --unzip"
   ]
  },
  {
   "cell_type": "code",
   "execution_count": 5,
   "metadata": {},
   "outputs": [
    {
     "name": "stdout",
     "output_type": "stream",
     "text": [
      "Collecting torch\n",
      "  Downloading torch-2.6.0-cp313-cp313-win_amd64.whl.metadata (28 kB)\n",
      "Collecting filelock (from torch)\n",
      "  Downloading filelock-3.18.0-py3-none-any.whl.metadata (2.9 kB)\n",
      "Collecting typing-extensions>=4.10.0 (from torch)\n",
      "  Downloading typing_extensions-4.13.1-py3-none-any.whl.metadata (3.0 kB)\n",
      "Collecting networkx (from torch)\n",
      "  Downloading networkx-3.4.2-py3-none-any.whl.metadata (6.3 kB)\n",
      "Collecting jinja2 (from torch)\n",
      "  Using cached jinja2-3.1.6-py3-none-any.whl.metadata (2.9 kB)\n",
      "Collecting fsspec (from torch)\n",
      "  Downloading fsspec-2025.3.2-py3-none-any.whl.metadata (11 kB)\n",
      "Requirement already satisfied: setuptools in d:\\code\\ai_labs_2\\.venv\\lib\\site-packages (from torch) (78.1.0)\n",
      "Collecting sympy==1.13.1 (from torch)\n",
      "  Downloading sympy-1.13.1-py3-none-any.whl.metadata (12 kB)\n",
      "Collecting mpmath<1.4,>=1.1.0 (from sympy==1.13.1->torch)\n",
      "  Downloading mpmath-1.3.0-py3-none-any.whl.metadata (8.6 kB)\n",
      "Collecting MarkupSafe>=2.0 (from jinja2->torch)\n",
      "  Using cached MarkupSafe-3.0.2-cp313-cp313-win_amd64.whl.metadata (4.1 kB)\n",
      "Downloading torch-2.6.0-cp313-cp313-win_amd64.whl (204.1 MB)\n",
      "   ---------------------------------------- 0.0/204.1 MB ? eta -:--:--\n",
      "   ---------------------------------------- 0.0/204.1 MB ? eta -:--:--\n",
      "   ---------------------------------------- 0.0/204.1 MB ? eta -:--:--\n",
      "   ---------------------------------------- 0.0/204.1 MB ? eta -:--:--\n",
      "   ---------------------------------------- 0.5/204.1 MB 1.6 MB/s eta 0:02:06\n",
      "   ---------------------------------------- 1.3/204.1 MB 3.2 MB/s eta 0:01:04\n",
      "    --------------------------------------- 2.6/204.1 MB 4.8 MB/s eta 0:00:43\n",
      "    --------------------------------------- 2.6/204.1 MB 4.8 MB/s eta 0:00:43\n",
      "    --------------------------------------- 5.0/204.1 MB 4.8 MB/s eta 0:00:42\n",
      "   - -------------------------------------- 5.8/204.1 MB 4.6 MB/s eta 0:00:44\n",
      "   - -------------------------------------- 7.9/204.1 MB 5.4 MB/s eta 0:00:37\n",
      "   - -------------------------------------- 9.7/204.1 MB 5.8 MB/s eta 0:00:34\n",
      "   -- ------------------------------------- 11.3/204.1 MB 6.0 MB/s eta 0:00:33\n",
      "   -- ------------------------------------- 13.1/204.1 MB 6.4 MB/s eta 0:00:30\n",
      "   -- ------------------------------------- 14.7/204.1 MB 6.5 MB/s eta 0:00:30\n",
      "   --- ------------------------------------ 16.5/204.1 MB 6.7 MB/s eta 0:00:29\n",
      "   --- ------------------------------------ 18.9/204.1 MB 7.0 MB/s eta 0:00:27\n",
      "   ---- ----------------------------------- 20.4/204.1 MB 7.0 MB/s eta 0:00:27\n",
      "   ---- ----------------------------------- 22.5/204.1 MB 7.2 MB/s eta 0:00:26\n",
      "   ---- ----------------------------------- 24.6/204.1 MB 7.4 MB/s eta 0:00:25\n",
      "   ----- ---------------------------------- 26.5/204.1 MB 7.5 MB/s eta 0:00:24\n",
      "   ----- ---------------------------------- 28.6/204.1 MB 7.6 MB/s eta 0:00:24\n",
      "   ------ --------------------------------- 30.9/204.1 MB 7.8 MB/s eta 0:00:23\n",
      "   ------ --------------------------------- 32.5/204.1 MB 7.8 MB/s eta 0:00:23\n",
      "   ------ --------------------------------- 34.6/204.1 MB 7.9 MB/s eta 0:00:22\n",
      "   ------- -------------------------------- 37.0/204.1 MB 8.0 MB/s eta 0:00:21\n",
      "   ------- -------------------------------- 38.8/204.1 MB 8.0 MB/s eta 0:00:21\n",
      "   -------- ------------------------------- 40.9/204.1 MB 8.1 MB/s eta 0:00:21\n",
      "   -------- ------------------------------- 43.3/204.1 MB 8.2 MB/s eta 0:00:20\n",
      "   -------- ------------------------------- 45.1/204.1 MB 8.2 MB/s eta 0:00:20\n",
      "   --------- ------------------------------ 47.2/204.1 MB 8.3 MB/s eta 0:00:19\n",
      "   --------- ------------------------------ 49.8/204.1 MB 8.4 MB/s eta 0:00:19\n",
      "   ---------- ----------------------------- 51.6/204.1 MB 8.4 MB/s eta 0:00:19\n",
      "   ---------- ----------------------------- 53.7/204.1 MB 8.5 MB/s eta 0:00:18\n",
      "   ---------- ----------------------------- 54.5/204.1 MB 8.5 MB/s eta 0:00:18\n",
      "   ----------- ---------------------------- 57.1/204.1 MB 8.5 MB/s eta 0:00:18\n",
      "   ----------- ---------------------------- 58.7/204.1 MB 8.4 MB/s eta 0:00:18\n",
      "   ----------- ---------------------------- 60.3/204.1 MB 8.4 MB/s eta 0:00:18\n",
      "   ------------ --------------------------- 61.9/204.1 MB 8.4 MB/s eta 0:00:17\n",
      "   ------------ --------------------------- 63.2/204.1 MB 8.4 MB/s eta 0:00:17\n",
      "   ------------ --------------------------- 65.0/204.1 MB 8.3 MB/s eta 0:00:17\n",
      "   ------------- -------------------------- 66.8/204.1 MB 8.3 MB/s eta 0:00:17\n",
      "   ------------- -------------------------- 68.2/204.1 MB 8.3 MB/s eta 0:00:17\n",
      "   ------------- -------------------------- 70.0/204.1 MB 8.3 MB/s eta 0:00:17\n",
      "   ------------- -------------------------- 71.3/204.1 MB 8.2 MB/s eta 0:00:17\n",
      "   -------------- ------------------------- 73.1/204.1 MB 8.3 MB/s eta 0:00:16\n",
      "   -------------- ------------------------- 74.7/204.1 MB 8.2 MB/s eta 0:00:16\n",
      "   -------------- ------------------------- 76.3/204.1 MB 8.2 MB/s eta 0:00:16\n",
      "   --------------- ------------------------ 78.4/204.1 MB 8.3 MB/s eta 0:00:16\n",
      "   --------------- ------------------------ 80.0/204.1 MB 8.2 MB/s eta 0:00:16\n",
      "   --------------- ------------------------ 81.5/204.1 MB 8.2 MB/s eta 0:00:15\n",
      "   ---------------- ----------------------- 83.6/204.1 MB 8.3 MB/s eta 0:00:15\n",
      "   ---------------- ----------------------- 85.2/204.1 MB 8.2 MB/s eta 0:00:15\n",
      "   ----------------- ---------------------- 87.0/204.1 MB 8.3 MB/s eta 0:00:15\n",
      "   ----------------- ---------------------- 88.9/204.1 MB 8.3 MB/s eta 0:00:14\n",
      "   ----------------- ---------------------- 90.4/204.1 MB 8.3 MB/s eta 0:00:14\n",
      "   ------------------ --------------------- 92.3/204.1 MB 8.3 MB/s eta 0:00:14\n",
      "   ------------------ --------------------- 94.1/204.1 MB 8.3 MB/s eta 0:00:14\n",
      "   ------------------ --------------------- 95.7/204.1 MB 8.3 MB/s eta 0:00:14\n",
      "   ------------------- -------------------- 97.8/204.1 MB 8.3 MB/s eta 0:00:13\n",
      "   ------------------- -------------------- 99.1/204.1 MB 8.3 MB/s eta 0:00:13\n",
      "   ------------------- -------------------- 101.2/204.1 MB 8.3 MB/s eta 0:00:13\n",
      "   -------------------- ------------------- 102.8/204.1 MB 8.3 MB/s eta 0:00:13\n",
      "   -------------------- ------------------- 103.0/204.1 MB 8.3 MB/s eta 0:00:13\n",
      "   -------------------- ------------------- 105.9/204.1 MB 8.2 MB/s eta 0:00:12\n",
      "   -------------------- ------------------- 107.0/204.1 MB 8.2 MB/s eta 0:00:12\n",
      "   --------------------- ------------------ 108.3/204.1 MB 8.2 MB/s eta 0:00:12\n",
      "   --------------------- ------------------ 109.8/204.1 MB 8.1 MB/s eta 0:00:12\n",
      "   --------------------- ------------------ 111.1/204.1 MB 8.1 MB/s eta 0:00:12\n",
      "   --------------------- ------------------ 112.2/204.1 MB 8.1 MB/s eta 0:00:12\n",
      "   ---------------------- ----------------- 113.8/204.1 MB 8.1 MB/s eta 0:00:12\n",
      "   ---------------------- ----------------- 115.3/204.1 MB 8.1 MB/s eta 0:00:12\n",
      "   ---------------------- ----------------- 116.4/204.1 MB 8.0 MB/s eta 0:00:11\n",
      "   ----------------------- ---------------- 118.0/204.1 MB 8.0 MB/s eta 0:00:11\n",
      "   ----------------------- ---------------- 119.5/204.1 MB 8.0 MB/s eta 0:00:11\n",
      "   ----------------------- ---------------- 120.8/204.1 MB 8.0 MB/s eta 0:00:11\n",
      "   ----------------------- ---------------- 122.4/204.1 MB 8.0 MB/s eta 0:00:11\n",
      "   ------------------------ --------------- 124.0/204.1 MB 7.9 MB/s eta 0:00:11\n",
      "   ------------------------ --------------- 125.3/204.1 MB 7.9 MB/s eta 0:00:10\n",
      "   ------------------------ --------------- 126.9/204.1 MB 7.9 MB/s eta 0:00:10\n",
      "   ------------------------- -------------- 128.7/204.1 MB 7.9 MB/s eta 0:00:10\n",
      "   ------------------------- -------------- 129.8/204.1 MB 7.9 MB/s eta 0:00:10\n",
      "   ------------------------- -------------- 131.3/204.1 MB 7.9 MB/s eta 0:00:10\n",
      "   -------------------------- ------------- 133.2/204.1 MB 7.9 MB/s eta 0:00:10\n",
      "   -------------------------- ------------- 134.5/204.1 MB 7.9 MB/s eta 0:00:09\n",
      "   -------------------------- ------------- 136.1/204.1 MB 7.9 MB/s eta 0:00:09\n",
      "   --------------------------- ------------ 137.9/204.1 MB 7.9 MB/s eta 0:00:09\n",
      "   --------------------------- ------------ 139.2/204.1 MB 7.8 MB/s eta 0:00:09\n",
      "   --------------------------- ------------ 140.2/204.1 MB 7.8 MB/s eta 0:00:09\n",
      "   --------------------------- ------------ 141.8/204.1 MB 7.8 MB/s eta 0:00:08\n",
      "   ---------------------------- ----------- 143.7/204.1 MB 7.8 MB/s eta 0:00:08\n",
      "   ---------------------------- ----------- 145.0/204.1 MB 7.8 MB/s eta 0:00:08\n",
      "   ---------------------------- ----------- 146.5/204.1 MB 7.8 MB/s eta 0:00:08\n",
      "   ----------------------------- ---------- 148.4/204.1 MB 7.8 MB/s eta 0:00:08\n",
      "   ----------------------------- ---------- 149.7/204.1 MB 7.8 MB/s eta 0:00:07\n",
      "   ----------------------------- ---------- 151.3/204.1 MB 7.8 MB/s eta 0:00:07\n",
      "   ----------------------------- ---------- 152.8/204.1 MB 7.8 MB/s eta 0:00:07\n",
      "   ------------------------------ --------- 154.1/204.1 MB 7.8 MB/s eta 0:00:07\n",
      "   ------------------------------ --------- 155.7/204.1 MB 7.8 MB/s eta 0:00:07\n",
      "   ------------------------------ --------- 157.3/204.1 MB 7.8 MB/s eta 0:00:07\n",
      "   ------------------------------- -------- 158.9/204.1 MB 7.8 MB/s eta 0:00:06\n",
      "   ------------------------------- -------- 160.2/204.1 MB 7.7 MB/s eta 0:00:06\n",
      "   ------------------------------- -------- 161.5/204.1 MB 7.7 MB/s eta 0:00:06\n",
      "   -------------------------------- ------- 163.3/204.1 MB 7.7 MB/s eta 0:00:06\n",
      "   -------------------------------- ------- 164.6/204.1 MB 7.7 MB/s eta 0:00:06\n",
      "   -------------------------------- ------- 166.2/204.1 MB 7.7 MB/s eta 0:00:05\n",
      "   -------------------------------- ------- 168.0/204.1 MB 7.7 MB/s eta 0:00:05\n",
      "   --------------------------------- ------ 169.3/204.1 MB 7.7 MB/s eta 0:00:05\n",
      "   --------------------------------- ------ 170.9/204.1 MB 7.7 MB/s eta 0:00:05\n",
      "   --------------------------------- ------ 172.8/204.1 MB 7.7 MB/s eta 0:00:05\n",
      "   ---------------------------------- ----- 174.1/204.1 MB 7.7 MB/s eta 0:00:04\n",
      "   ---------------------------------- ----- 175.6/204.1 MB 7.7 MB/s eta 0:00:04\n",
      "   ---------------------------------- ----- 177.5/204.1 MB 7.7 MB/s eta 0:00:04\n",
      "   ----------------------------------- ---- 178.8/204.1 MB 7.7 MB/s eta 0:00:04\n",
      "   ----------------------------------- ---- 180.4/204.1 MB 7.7 MB/s eta 0:00:04\n",
      "   ----------------------------------- ---- 182.2/204.1 MB 7.7 MB/s eta 0:00:03\n",
      "   ----------------------------------- ---- 183.5/204.1 MB 7.7 MB/s eta 0:00:03\n",
      "   ------------------------------------ --- 185.3/204.1 MB 7.7 MB/s eta 0:00:03\n",
      "   ------------------------------------ --- 186.9/204.1 MB 7.7 MB/s eta 0:00:03\n",
      "   ------------------------------------ --- 188.5/204.1 MB 7.7 MB/s eta 0:00:03\n",
      "   ------------------------------------- -- 190.1/204.1 MB 7.7 MB/s eta 0:00:02\n",
      "   ------------------------------------- -- 191.4/204.1 MB 7.7 MB/s eta 0:00:02\n",
      "   ------------------------------------- -- 193.2/204.1 MB 7.7 MB/s eta 0:00:02\n",
      "   -------------------------------------- - 194.8/204.1 MB 7.7 MB/s eta 0:00:02\n",
      "   -------------------------------------- - 196.3/204.1 MB 7.7 MB/s eta 0:00:02\n",
      "   -------------------------------------- - 198.4/204.1 MB 7.7 MB/s eta 0:00:01\n",
      "   ---------------------------------------  199.8/204.1 MB 7.7 MB/s eta 0:00:01\n",
      "   ---------------------------------------  201.1/204.1 MB 7.7 MB/s eta 0:00:01\n",
      "   ---------------------------------------  202.9/204.1 MB 7.7 MB/s eta 0:00:01\n",
      "   ---------------------------------------  203.9/204.1 MB 7.7 MB/s eta 0:00:01\n",
      "   ---------------------------------------- 204.1/204.1 MB 7.6 MB/s eta 0:00:00\n",
      "Downloading sympy-1.13.1-py3-none-any.whl (6.2 MB)\n",
      "   ---------------------------------------- 0.0/6.2 MB ? eta -:--:--\n",
      "   ---------- ----------------------------- 1.6/6.2 MB 7.9 MB/s eta 0:00:01\n",
      "   ------------------ --------------------- 2.9/6.2 MB 8.0 MB/s eta 0:00:01\n",
      "   --------------------------- ------------ 4.2/6.2 MB 8.0 MB/s eta 0:00:01\n",
      "   ---------------------------------------- 6.2/6.2 MB 7.3 MB/s eta 0:00:00\n",
      "Downloading typing_extensions-4.13.1-py3-none-any.whl (45 kB)\n",
      "Downloading filelock-3.18.0-py3-none-any.whl (16 kB)\n",
      "Downloading fsspec-2025.3.2-py3-none-any.whl (194 kB)\n",
      "Using cached jinja2-3.1.6-py3-none-any.whl (134 kB)\n",
      "Downloading networkx-3.4.2-py3-none-any.whl (1.7 MB)\n",
      "   ---------------------------------------- 0.0/1.7 MB ? eta -:--:--\n",
      "   ------------ --------------------------- 0.5/1.7 MB 111.5 MB/s eta 0:00:01\n",
      "   ------------------------ --------------- 1.0/1.7 MB 2.4 MB/s eta 0:00:01\n",
      "   ---------------------------------------- 1.7/1.7 MB 3.0 MB/s eta 0:00:00\n",
      "Using cached MarkupSafe-3.0.2-cp313-cp313-win_amd64.whl (15 kB)\n",
      "Downloading mpmath-1.3.0-py3-none-any.whl (536 kB)\n",
      "   ---------------------------------------- 0.0/536.2 kB ? eta -:--:--\n",
      "   --------------------------------------- 536.2/536.2 kB 35.1 MB/s eta 0:00:00\n",
      "Installing collected packages: mpmath, typing-extensions, sympy, networkx, MarkupSafe, fsspec, filelock, jinja2, torch\n",
      "Successfully installed MarkupSafe-3.0.2 filelock-3.18.0 fsspec-2025.3.2 jinja2-3.1.6 mpmath-1.3.0 networkx-3.4.2 sympy-1.13.1 torch-2.6.0 typing-extensions-4.13.1\n",
      "Collecting torchvision\n",
      "  Downloading torchvision-0.21.0-cp313-cp313-win_amd64.whl.metadata (6.3 kB)\n",
      "Requirement already satisfied: numpy in d:\\code\\ai_labs_2\\.venv\\lib\\site-packages (from torchvision) (2.2.4)\n",
      "Requirement already satisfied: torch==2.6.0 in d:\\code\\ai_labs_2\\.venv\\lib\\site-packages (from torchvision) (2.6.0)\n",
      "Collecting pillow!=8.3.*,>=5.3.0 (from torchvision)\n",
      "  Downloading pillow-11.1.0-cp313-cp313-win_amd64.whl.metadata (9.3 kB)\n",
      "Requirement already satisfied: filelock in d:\\code\\ai_labs_2\\.venv\\lib\\site-packages (from torch==2.6.0->torchvision) (3.18.0)\n",
      "Requirement already satisfied: typing-extensions>=4.10.0 in d:\\code\\ai_labs_2\\.venv\\lib\\site-packages (from torch==2.6.0->torchvision) (4.13.1)\n",
      "Requirement already satisfied: networkx in d:\\code\\ai_labs_2\\.venv\\lib\\site-packages (from torch==2.6.0->torchvision) (3.4.2)\n",
      "Requirement already satisfied: jinja2 in d:\\code\\ai_labs_2\\.venv\\lib\\site-packages (from torch==2.6.0->torchvision) (3.1.6)\n",
      "Requirement already satisfied: fsspec in d:\\code\\ai_labs_2\\.venv\\lib\\site-packages (from torch==2.6.0->torchvision) (2025.3.2)\n",
      "Requirement already satisfied: setuptools in d:\\code\\ai_labs_2\\.venv\\lib\\site-packages (from torch==2.6.0->torchvision) (78.1.0)\n",
      "Requirement already satisfied: sympy==1.13.1 in d:\\code\\ai_labs_2\\.venv\\lib\\site-packages (from torch==2.6.0->torchvision) (1.13.1)\n",
      "Requirement already satisfied: mpmath<1.4,>=1.1.0 in d:\\code\\ai_labs_2\\.venv\\lib\\site-packages (from sympy==1.13.1->torch==2.6.0->torchvision) (1.3.0)\n",
      "Requirement already satisfied: MarkupSafe>=2.0 in d:\\code\\ai_labs_2\\.venv\\lib\\site-packages (from jinja2->torch==2.6.0->torchvision) (3.0.2)\n",
      "Downloading torchvision-0.21.0-cp313-cp313-win_amd64.whl (1.6 MB)\n",
      "   ---------------------------------------- 0.0/1.6 MB ? eta -:--:--\n",
      "   ---------------------------------------- 0.0/1.6 MB ? eta -:--:--\n",
      "   ---------------------------------------- 0.0/1.6 MB ? eta -:--:--\n",
      "   ------ --------------------------------- 0.3/1.6 MB ? eta -:--:--\n",
      "   ------------- -------------------------- 0.5/1.6 MB 1.5 MB/s eta 0:00:01\n",
      "   -------------------------- ------------- 1.0/1.6 MB 2.2 MB/s eta 0:00:01\n",
      "   ---------------------------------------- 1.6/1.6 MB 2.4 MB/s eta 0:00:00\n",
      "Downloading pillow-11.1.0-cp313-cp313-win_amd64.whl (2.6 MB)\n",
      "   ---------------------------------------- 0.0/2.6 MB ? eta -:--:--\n",
      "   ----------- ---------------------------- 0.8/2.6 MB 104.1 MB/s eta 0:00:01\n",
      "   --------------------------- ------------ 1.8/2.6 MB 4.3 MB/s eta 0:00:01\n",
      "   ---------------------------------------- 2.6/2.6 MB 4.4 MB/s eta 0:00:00\n",
      "Installing collected packages: pillow, torchvision\n",
      "Successfully installed pillow-11.1.0 torchvision-0.21.0\n"
     ]
    }
   ],
   "source": [
    "!pip install torch\n",
    "!pip install torchvision"
   ]
  },
  {
   "cell_type": "markdown",
   "metadata": {},
   "source": [
    "Посмотрим статистику по классам в датасете"
   ]
  },
  {
   "cell_type": "code",
   "execution_count": 1,
   "metadata": {},
   "outputs": [
    {
     "name": "stdout",
     "output_type": "stream",
     "text": [
      "классы - ['Anger', 'Disgust', 'Fear', 'Happiness', 'Neutral', 'Sadness', 'Surprise']\n",
      "картинок в train: 56000\n",
      "картинок в val: 7000\n",
      "картинок в test: 7000\n"
     ]
    }
   ],
   "source": [
    "import torch\n",
    "from torchvision import datasets, transforms\n",
    "from torch.utils.data import DataLoader\n",
    "\n",
    "transform = transforms.Compose([\n",
    "    transforms.Grayscale(),\n",
    "    transforms.ToTensor(),\n",
    "    transforms.Normalize((0.5,), (0.5,))\n",
    "])\n",
    "\n",
    "train_data = datasets.ImageFolder(root=\"data/FER2013_7emotions_Uniform_Augmented_Dataset/train\", transform=transform)\n",
    "val_data = datasets.ImageFolder(root=\"data/FER2013_7emotions_Uniform_Augmented_Dataset/validation\", transform=transform)\n",
    "test_data = datasets.ImageFolder(root=\"data/FER2013_7emotions_Uniform_Augmented_Dataset/test\", transform=transform)\n",
    "\n",
    "train_loader = DataLoader(train_data, batch_size=32, shuffle=True)\n",
    "val_loader = DataLoader(val_data, batch_size=32, shuffle=False)\n",
    "test_loader = DataLoader(test_data, batch_size=32, shuffle=False)\n",
    "\n",
    "print(\"классы -\", train_data.classes)\n",
    "print(\"картинок в train:\", len(train_data))\n",
    "print(\"картинок в val:\", len(val_data))\n",
    "print(\"картинок в test:\", len(test_data))\n"
   ]
  },
  {
   "cell_type": "code",
   "execution_count": 10,
   "metadata": {},
   "outputs": [
    {
     "name": "stdout",
     "output_type": "stream",
     "text": [
      "Collecting matplotlib\n",
      "  Downloading matplotlib-3.10.1-cp313-cp313-win_amd64.whl.metadata (11 kB)\n",
      "Collecting contourpy>=1.0.1 (from matplotlib)\n",
      "  Downloading contourpy-1.3.1-cp313-cp313-win_amd64.whl.metadata (5.4 kB)\n",
      "Collecting cycler>=0.10 (from matplotlib)\n",
      "  Downloading cycler-0.12.1-py3-none-any.whl.metadata (3.8 kB)\n",
      "Collecting fonttools>=4.22.0 (from matplotlib)\n",
      "  Downloading fonttools-4.57.0-cp313-cp313-win_amd64.whl.metadata (104 kB)\n",
      "Collecting kiwisolver>=1.3.1 (from matplotlib)\n",
      "  Downloading kiwisolver-1.4.8-cp313-cp313-win_amd64.whl.metadata (6.3 kB)\n",
      "Requirement already satisfied: numpy>=1.23 in d:\\code\\ai_labs_2\\.venv\\lib\\site-packages (from matplotlib) (2.2.4)\n",
      "Requirement already satisfied: packaging>=20.0 in d:\\code\\ai_labs_2\\.venv\\lib\\site-packages (from matplotlib) (24.2)\n",
      "Requirement already satisfied: pillow>=8 in d:\\code\\ai_labs_2\\.venv\\lib\\site-packages (from matplotlib) (11.1.0)\n",
      "Collecting pyparsing>=2.3.1 (from matplotlib)\n",
      "  Downloading pyparsing-3.2.3-py3-none-any.whl.metadata (5.0 kB)\n",
      "Requirement already satisfied: python-dateutil>=2.7 in d:\\code\\ai_labs_2\\.venv\\lib\\site-packages (from matplotlib) (2.9.0.post0)\n",
      "Requirement already satisfied: six>=1.5 in d:\\code\\ai_labs_2\\.venv\\lib\\site-packages (from python-dateutil>=2.7->matplotlib) (1.17.0)\n",
      "Downloading matplotlib-3.10.1-cp313-cp313-win_amd64.whl (8.1 MB)\n",
      "   ---------------------------------------- 0.0/8.1 MB ? eta -:--:--\n",
      "   ---------------------------------------- 0.0/8.1 MB ? eta -:--:--\n",
      "   ---------------------------------------- 0.0/8.1 MB ? eta -:--:--\n",
      "   - -------------------------------------- 0.3/8.1 MB ? eta -:--:--\n",
      "   -- ------------------------------------- 0.5/8.1 MB 1.6 MB/s eta 0:00:05\n",
      "   ------- -------------------------------- 1.6/8.1 MB 2.6 MB/s eta 0:00:03\n",
      "   ------------- -------------------------- 2.6/8.1 MB 3.5 MB/s eta 0:00:02\n",
      "   ------------- -------------------------- 2.6/8.1 MB 3.5 MB/s eta 0:00:02\n",
      "   -------------------- ------------------- 4.2/8.1 MB 3.7 MB/s eta 0:00:02\n",
      "   ------------------------------- -------- 6.3/8.1 MB 4.5 MB/s eta 0:00:01\n",
      "   ---------------------------------------  7.9/8.1 MB 5.0 MB/s eta 0:00:01\n",
      "   ---------------------------------------  7.9/8.1 MB 5.0 MB/s eta 0:00:01\n",
      "   ---------------------------------------  7.9/8.1 MB 5.0 MB/s eta 0:00:01\n",
      "   ---------------------------------------  7.9/8.1 MB 5.0 MB/s eta 0:00:01\n",
      "   ---------------------------------------  7.9/8.1 MB 5.0 MB/s eta 0:00:01\n",
      "   ---------------------------------------  7.9/8.1 MB 5.0 MB/s eta 0:00:01\n",
      "   ---------------------------------------  7.9/8.1 MB 5.0 MB/s eta 0:00:01\n",
      "   ---------------------------------------  7.9/8.1 MB 5.0 MB/s eta 0:00:01\n",
      "   ---------------------------------------  7.9/8.1 MB 5.0 MB/s eta 0:00:01\n",
      "   ---------------------------------------- 8.1/8.1 MB 2.3 MB/s eta 0:00:00\n",
      "Downloading contourpy-1.3.1-cp313-cp313-win_amd64.whl (220 kB)\n",
      "Downloading cycler-0.12.1-py3-none-any.whl (8.3 kB)\n",
      "Downloading fonttools-4.57.0-cp313-cp313-win_amd64.whl (2.2 MB)\n",
      "   ---------------------------------------- 0.0/2.2 MB ? eta -:--:--\n",
      "   --------- ------------------------------ 0.5/2.2 MB 79.4 MB/s eta 0:00:01\n",
      "   ---------------------------------------- 2.2/2.2 MB 5.6 MB/s eta 0:00:00\n",
      "Downloading kiwisolver-1.4.8-cp313-cp313-win_amd64.whl (71 kB)\n",
      "Downloading pyparsing-3.2.3-py3-none-any.whl (111 kB)\n",
      "Installing collected packages: pyparsing, kiwisolver, fonttools, cycler, contourpy, matplotlib\n",
      "Successfully installed contourpy-1.3.1 cycler-0.12.1 fonttools-4.57.0 kiwisolver-1.4.8 matplotlib-3.10.1 pyparsing-3.2.3\n"
     ]
    }
   ],
   "source": [
    "!pip install matplotlib"
   ]
  },
  {
   "cell_type": "markdown",
   "metadata": {},
   "source": [
    "Посмотрим на несколько изображений из датасета:"
   ]
  },
  {
   "cell_type": "code",
   "execution_count": 30,
   "metadata": {},
   "outputs": [
    {
     "data": {
      "image/png": "[encoded data removed]",
      "text/plain": [
       "<Figure size 1200x400 with 5 Axes>"
      ]
     },
     "metadata": {},
     "output_type": "display_data"
    }
   ],
   "source": [
    "import matplotlib.pyplot as plt\n",
    "import numpy as np\n",
    "\n",
    "def imshow(img):\n",
    "    img = img.numpy().squeeze()\n",
    "    plt.imshow(img, cmap=\"gray\")\n",
    "    plt.axis(\"off\")\n",
    "\n",
    "fig, axes = plt.subplots(1, 5, figsize=(12, 4))\n",
    "for i in range(5):\n",
    "    img, label = train_data[i]\n",
    "    axes[i].imshow(img.numpy().squeeze(), cmap=\"gray\")\n",
    "    axes[i].set_title(train_data.classes[label])\n",
    "    axes[i].axis(\"off\")\n",
    "plt.show()\n"
   ]
  },
  {
   "cell_type": "markdown",
   "metadata": {},
   "source": [
    "### b. Метрики качества"
   ]
  },
  {
   "cell_type": "markdown",
   "metadata": {},
   "source": [
    "В качестве метрики качества будем использовать accuracy - как показатель верно угаданных классов."
   ]
  },
  {
   "cell_type": "markdown",
   "metadata": {},
   "source": [
    "## 2. Создание бейзлайна и оценка качества\n"
   ]
  },
  {
   "cell_type": "code",
   "execution_count": 24,
   "metadata": {},
   "outputs": [
    {
     "name": "stdout",
     "output_type": "stream",
     "text": [
      "Looking in indexes: https://download.pytorch.org/whl/cu118\n",
      "Collecting torch\n",
      "  Using cached https://download.pytorch.org/whl/cu118/torch-2.6.0%2Bcu118-cp313-cp313-win_amd64.whl.metadata (28 kB)\n",
      "Collecting torchvision\n",
      "  Using cached https://download.pytorch.org/whl/cu118/torchvision-0.21.0%2Bcu118-cp313-cp313-win_amd64.whl.metadata (6.3 kB)\n",
      "Requirement already satisfied: filelock in d:\\code\\ai_labs_2\\.venv\\lib\\site-packages (from torch) (3.18.0)\n",
      "Requirement already satisfied: typing-extensions>=4.10.0 in d:\\code\\ai_labs_2\\.venv\\lib\\site-packages (from torch) (4.13.1)\n",
      "Requirement already satisfied: networkx in d:\\code\\ai_labs_2\\.venv\\lib\\site-packages (from torch) (3.4.2)\n",
      "Requirement already satisfied: jinja2 in d:\\code\\ai_labs_2\\.venv\\lib\\site-packages (from torch) (3.1.6)\n",
      "Requirement already satisfied: fsspec in d:\\code\\ai_labs_2\\.venv\\lib\\site-packages (from torch) (2025.3.2)\n",
      "Requirement already satisfied: setuptools in d:\\code\\ai_labs_2\\.venv\\lib\\site-packages (from torch) (78.1.0)\n",
      "Requirement already satisfied: sympy==1.13.1 in d:\\code\\ai_labs_2\\.venv\\lib\\site-packages (from torch) (1.13.1)\n",
      "Requirement already satisfied: mpmath<1.4,>=1.1.0 in d:\\code\\ai_labs_2\\.venv\\lib\\site-packages (from sympy==1.13.1->torch) (1.3.0)\n",
      "Requirement already satisfied: numpy in d:\\code\\ai_labs_2\\.venv\\lib\\site-packages (from torchvision) (2.2.4)\n",
      "Requirement already satisfied: pillow!=8.3.*,>=5.3.0 in d:\\code\\ai_labs_2\\.venv\\lib\\site-packages (from torchvision) (11.1.0)\n",
      "Requirement already satisfied: MarkupSafe>=2.0 in d:\\code\\ai_labs_2\\.venv\\lib\\site-packages (from jinja2->torch) (3.0.2)\n",
      "Downloading https://download.pytorch.org/whl/cu118/torch-2.6.0%2Bcu118-cp313-cp313-win_amd64.whl (2728.9 MB)\n",
      "   ---------------------------------------- 0.0/2.7 GB ? eta -:--:--\n",
      "   ---------------------------------------- 0.0/2.7 GB 37.7 MB/s eta 0:01:13\n",
      "   ---------------------------------------- 0.0/2.7 GB 51.3 MB/s eta 0:00:53\n",
      "   ---------------------------------------- 0.0/2.7 GB 47.3 MB/s eta 0:00:58\n",
      "    --------------------------------------- 0.0/2.7 GB 58.0 MB/s eta 0:00:47\n",
      "    --------------------------------------- 0.1/2.7 GB 61.4 MB/s eta 0:00:44\n",
      "   - -------------------------------------- 0.1/2.7 GB 62.4 MB/s eta 0:00:43\n",
      "   - -------------------------------------- 0.1/2.7 GB 62.0 MB/s eta 0:00:43\n",
      "   - -------------------------------------- 0.1/2.7 GB 62.8 MB/s eta 0:00:42\n",
      "   - -------------------------------------- 0.1/2.7 GB 62.5 MB/s eta 0:00:42\n",
      "   - -------------------------------------- 0.1/2.7 GB 62.2 MB/s eta 0:00:42\n",
      "   -- ------------------------------------- 0.1/2.7 GB 63.5 MB/s eta 0:00:41\n",
      "   -- ------------------------------------- 0.2/2.7 GB 63.8 MB/s eta 0:00:41\n",
      "   -- ------------------------------------- 0.2/2.7 GB 64.0 MB/s eta 0:00:40\n",
      "   -- ------------------------------------- 0.2/2.7 GB 64.2 MB/s eta 0:00:40\n",
      "   -- ------------------------------------- 0.2/2.7 GB 64.3 MB/s eta 0:00:40\n",
      "   --- ------------------------------------ 0.2/2.7 GB 64.5 MB/s eta 0:00:39\n",
      "   --- ------------------------------------ 0.2/2.7 GB 63.9 MB/s eta 0:00:40\n",
      "   --- ------------------------------------ 0.2/2.7 GB 64.7 MB/s eta 0:00:39\n",
      "   --- ------------------------------------ 0.3/2.7 GB 64.8 MB/s eta 0:00:39\n",
      "   --- ------------------------------------ 0.3/2.7 GB 67.3 MB/s eta 0:00:37\n",
      "   ---- ----------------------------------- 0.3/2.7 GB 67.1 MB/s eta 0:00:37\n",
      "   ---- ----------------------------------- 0.3/2.7 GB 66.0 MB/s eta 0:00:37\n",
      "   ---- ----------------------------------- 0.3/2.7 GB 66.0 MB/s eta 0:00:37\n",
      "   ---- ----------------------------------- 0.3/2.7 GB 66.2 MB/s eta 0:00:37\n",
      "   ----- ---------------------------------- 0.3/2.7 GB 66.6 MB/s eta 0:00:36\n",
      "   ----- ---------------------------------- 0.4/2.7 GB 65.1 MB/s eta 0:00:37\n",
      "   ----- ---------------------------------- 0.4/2.7 GB 66.4 MB/s eta 0:00:36\n",
      "   ----- ---------------------------------- 0.4/2.7 GB 65.5 MB/s eta 0:00:36\n",
      "   ----- ---------------------------------- 0.4/2.7 GB 65.5 MB/s eta 0:00:36\n",
      "   ------ --------------------------------- 0.4/2.7 GB 65.4 MB/s eta 0:00:36\n",
      "   ------ --------------------------------- 0.4/2.7 GB 65.4 MB/s eta 0:00:36\n",
      "   ------ --------------------------------- 0.4/2.7 GB 65.5 MB/s eta 0:00:35\n",
      "   ------ --------------------------------- 0.5/2.7 GB 65.9 MB/s eta 0:00:35\n",
      "   ------ --------------------------------- 0.5/2.7 GB 65.6 MB/s eta 0:00:35\n",
      "   ------- -------------------------------- 0.5/2.7 GB 65.6 MB/s eta 0:00:35\n",
      "   ------- -------------------------------- 0.5/2.7 GB 65.1 MB/s eta 0:00:35\n",
      "   ------- -------------------------------- 0.5/2.7 GB 64.3 MB/s eta 0:00:35\n",
      "   ------- -------------------------------- 0.5/2.7 GB 63.9 MB/s eta 0:00:35\n",
      "   ------- -------------------------------- 0.5/2.7 GB 63.4 MB/s eta 0:00:35\n",
      "   ------- -------------------------------- 0.5/2.7 GB 63.4 MB/s eta 0:00:35\n",
      "   -------- ------------------------------- 0.6/2.7 GB 62.9 MB/s eta 0:00:35\n",
      "   -------- ------------------------------- 0.6/2.7 GB 62.4 MB/s eta 0:00:35\n",
      "   -------- ------------------------------- 0.6/2.7 GB 62.1 MB/s eta 0:00:35\n",
      "   -------- ------------------------------- 0.6/2.7 GB 63.4 MB/s eta 0:00:34\n",
      "   -------- ------------------------------- 0.6/2.7 GB 64.4 MB/s eta 0:00:33\n",
      "   --------- ------------------------------ 0.6/2.7 GB 64.3 MB/s eta 0:00:33\n",
      "   --------- ------------------------------ 0.6/2.7 GB 64.6 MB/s eta 0:00:33\n",
      "   --------- ------------------------------ 0.6/2.7 GB 64.3 MB/s eta 0:00:33\n",
      "   --------- ------------------------------ 0.7/2.7 GB 60.8 MB/s eta 0:00:35\n",
      "   --------- ------------------------------ 0.7/2.7 GB 59.6 MB/s eta 0:00:35\n",
      "   --------- ------------------------------ 0.7/2.7 GB 59.9 MB/s eta 0:00:35\n",
      "   ---------- ----------------------------- 0.7/2.7 GB 61.0 MB/s eta 0:00:34\n",
      "   ---------- ----------------------------- 0.7/2.7 GB 60.7 MB/s eta 0:00:34\n",
      "   ---------- ----------------------------- 0.7/2.7 GB 60.7 MB/s eta 0:00:34\n",
      "   ---------- ----------------------------- 0.7/2.7 GB 60.8 MB/s eta 0:00:33\n",
      "   ----------- ---------------------------- 0.8/2.7 GB 61.7 MB/s eta 0:00:33\n",
      "   ----------- ---------------------------- 0.8/2.7 GB 62.0 MB/s eta 0:00:32\n",
      "   ----------- ---------------------------- 0.8/2.7 GB 62.7 MB/s eta 0:00:32\n",
      "   ----------- ---------------------------- 0.8/2.7 GB 63.2 MB/s eta 0:00:31\n",
      "   ----------- ---------------------------- 0.8/2.7 GB 63.5 MB/s eta 0:00:31\n",
      "   ------------ --------------------------- 0.8/2.7 GB 63.7 MB/s eta 0:00:30\n",
      "   ------------ --------------------------- 0.8/2.7 GB 63.7 MB/s eta 0:00:30\n",
      "   ------------ --------------------------- 0.9/2.7 GB 63.9 MB/s eta 0:00:30\n",
      "   ------------ --------------------------- 0.9/2.7 GB 63.1 MB/s eta 0:00:30\n",
      "   ------------ --------------------------- 0.9/2.7 GB 62.0 MB/s eta 0:00:30\n",
      "   ------------- -------------------------- 0.9/2.7 GB 63.0 MB/s eta 0:00:30\n",
      "   ------------- -------------------------- 0.9/2.7 GB 62.5 MB/s eta 0:00:30\n",
      "   ------------- -------------------------- 0.9/2.7 GB 65.3 MB/s eta 0:00:28\n",
      "   ------------- -------------------------- 0.9/2.7 GB 66.6 MB/s eta 0:00:28\n",
      "   ------------- -------------------------- 0.9/2.7 GB 65.7 MB/s eta 0:00:28\n",
      "   -------------- ------------------------- 1.0/2.7 GB 65.0 MB/s eta 0:00:28\n",
      "   -------------- ------------------------- 1.0/2.7 GB 65.7 MB/s eta 0:00:27\n",
      "   -------------- ------------------------- 1.0/2.7 GB 65.7 MB/s eta 0:00:27\n",
      "   -------------- ------------------------- 1.0/2.7 GB 65.7 MB/s eta 0:00:27\n",
      "   -------------- ------------------------- 1.0/2.7 GB 65.7 MB/s eta 0:00:27\n",
      "   --------------- ------------------------ 1.0/2.7 GB 65.6 MB/s eta 0:00:26\n",
      "   --------------- ------------------------ 1.0/2.7 GB 65.8 MB/s eta 0:00:26\n",
      "   --------------- ------------------------ 1.1/2.7 GB 65.4 MB/s eta 0:00:26\n",
      "   --------------- ------------------------ 1.1/2.7 GB 65.4 MB/s eta 0:00:26\n",
      "   --------------- ------------------------ 1.1/2.7 GB 64.5 MB/s eta 0:00:26\n",
      "   ---------------- ----------------------- 1.1/2.7 GB 64.9 MB/s eta 0:00:26\n",
      "   ---------------- ----------------------- 1.1/2.7 GB 64.9 MB/s eta 0:00:25\n",
      "   ---------------- ----------------------- 1.1/2.7 GB 65.0 MB/s eta 0:00:25\n",
      "   ---------------- ----------------------- 1.1/2.7 GB 65.9 MB/s eta 0:00:25\n",
      "   ---------------- ----------------------- 1.2/2.7 GB 66.5 MB/s eta 0:00:24\n",
      "   ----------------- ---------------------- 1.2/2.7 GB 67.1 MB/s eta 0:00:24\n",
      "   ----------------- ---------------------- 1.2/2.7 GB 66.8 MB/s eta 0:00:24\n",
      "   ----------------- ---------------------- 1.2/2.7 GB 66.3 MB/s eta 0:00:24\n",
      "   ----------------- ---------------------- 1.2/2.7 GB 66.1 MB/s eta 0:00:23\n",
      "   ----------------- ---------------------- 1.2/2.7 GB 66.1 MB/s eta 0:00:23\n",
      "   ------------------ --------------------- 1.2/2.7 GB 66.1 MB/s eta 0:00:23\n",
      "   ------------------ --------------------- 1.3/2.7 GB 66.1 MB/s eta 0:00:23\n",
      "   ------------------ --------------------- 1.3/2.7 GB 66.5 MB/s eta 0:00:22\n",
      "   ------------------ --------------------- 1.3/2.7 GB 66.1 MB/s eta 0:00:22\n",
      "   ------------------ --------------------- 1.3/2.7 GB 65.4 MB/s eta 0:00:22\n",
      "   ------------------- -------------------- 1.3/2.7 GB 66.4 MB/s eta 0:00:22\n",
      "   ------------------- -------------------- 1.3/2.7 GB 64.6 MB/s eta 0:00:22\n",
      "   ------------------- -------------------- 1.3/2.7 GB 62.5 MB/s eta 0:00:23\n",
      "   ------------------- -------------------- 1.3/2.7 GB 63.8 MB/s eta 0:00:22\n",
      "   ------------------- -------------------- 1.4/2.7 GB 63.2 MB/s eta 0:00:22\n",
      "   -------------------- ------------------- 1.4/2.7 GB 63.1 MB/s eta 0:00:22\n",
      "   -------------------- ------------------- 1.4/2.7 GB 63.1 MB/s eta 0:00:22\n",
      "   -------------------- ------------------- 1.4/2.7 GB 63.1 MB/s eta 0:00:22\n",
      "   -------------------- ------------------- 1.4/2.7 GB 63.1 MB/s eta 0:00:21\n",
      "   -------------------- ------------------- 1.4/2.7 GB 63.1 MB/s eta 0:00:21\n",
      "   --------------------- ------------------ 1.4/2.7 GB 63.6 MB/s eta 0:00:21\n",
      "   --------------------- ------------------ 1.5/2.7 GB 63.2 MB/s eta 0:00:21\n",
      "   --------------------- ------------------ 1.5/2.7 GB 63.1 MB/s eta 0:00:20\n",
      "   --------------------- ------------------ 1.5/2.7 GB 63.1 MB/s eta 0:00:20\n",
      "   --------------------- ------------------ 1.5/2.7 GB 62.8 MB/s eta 0:00:20\n",
      "   ---------------------- ----------------- 1.5/2.7 GB 61.7 MB/s eta 0:00:20\n",
      "   ---------------------- ----------------- 1.5/2.7 GB 61.4 MB/s eta 0:00:20\n",
      "   ---------------------- ----------------- 1.5/2.7 GB 63.4 MB/s eta 0:00:19\n",
      "   ---------------------- ----------------- 1.5/2.7 GB 62.5 MB/s eta 0:00:19\n",
      "   ---------------------- ----------------- 1.6/2.7 GB 62.5 MB/s eta 0:00:19\n",
      "   ----------------------- ---------------- 1.6/2.7 GB 65.9 MB/s eta 0:00:18\n",
      "   ----------------------- ---------------- 1.6/2.7 GB 66.8 MB/s eta 0:00:18\n",
      "   ----------------------- ---------------- 1.6/2.7 GB 65.6 MB/s eta 0:00:18\n",
      "   ----------------------- ---------------- 1.6/2.7 GB 65.2 MB/s eta 0:00:18\n",
      "   ----------------------- ---------------- 1.6/2.7 GB 64.3 MB/s eta 0:00:18\n",
      "   ------------------------ --------------- 1.6/2.7 GB 64.9 MB/s eta 0:00:17\n",
      "   ------------------------ --------------- 1.7/2.7 GB 64.6 MB/s eta 0:00:17\n",
      "   ------------------------ --------------- 1.7/2.7 GB 64.5 MB/s eta 0:00:17\n",
      "   ------------------------ --------------- 1.7/2.7 GB 64.4 MB/s eta 0:00:17\n",
      "   ------------------------ --------------- 1.7/2.7 GB 64.7 MB/s eta 0:00:16\n",
      "   ------------------------- -------------- 1.7/2.7 GB 64.5 MB/s eta 0:00:16\n",
      "   ------------------------- -------------- 1.7/2.7 GB 64.4 MB/s eta 0:00:16\n",
      "   ------------------------- -------------- 1.7/2.7 GB 64.0 MB/s eta 0:00:16\n",
      "   ------------------------- -------------- 1.8/2.7 GB 65.8 MB/s eta 0:00:15\n",
      "   ------------------------- -------------- 1.8/2.7 GB 66.2 MB/s eta 0:00:15\n",
      "   -------------------------- ------------- 1.8/2.7 GB 66.0 MB/s eta 0:00:15\n",
      "   -------------------------- ------------- 1.8/2.7 GB 65.3 MB/s eta 0:00:15\n",
      "   -------------------------- ------------- 1.8/2.7 GB 65.1 MB/s eta 0:00:15\n",
      "   -------------------------- ------------- 1.8/2.7 GB 65.4 MB/s eta 0:00:14\n",
      "   -------------------------- ------------- 1.8/2.7 GB 65.5 MB/s eta 0:00:14\n",
      "   --------------------------- ------------ 1.9/2.7 GB 65.4 MB/s eta 0:00:14\n",
      "   --------------------------- ------------ 1.9/2.7 GB 65.2 MB/s eta 0:00:14\n",
      "   --------------------------- ------------ 1.9/2.7 GB 66.5 MB/s eta 0:00:13\n",
      "   --------------------------- ------------ 1.9/2.7 GB 65.1 MB/s eta 0:00:13\n",
      "   ---------------------------- ----------- 1.9/2.7 GB 65.2 MB/s eta 0:00:13\n",
      "   ---------------------------- ----------- 1.9/2.7 GB 67.1 MB/s eta 0:00:12\n",
      "   ---------------------------- ----------- 1.9/2.7 GB 66.7 MB/s eta 0:00:12\n",
      "   ---------------------------- ----------- 2.0/2.7 GB 66.9 MB/s eta 0:00:12\n",
      "   ---------------------------- ----------- 2.0/2.7 GB 67.0 MB/s eta 0:00:12\n",
      "   ---------------------------- ----------- 2.0/2.7 GB 67.1 MB/s eta 0:00:12\n",
      "   ----------------------------- ---------- 2.0/2.7 GB 63.4 MB/s eta 0:00:12\n",
      "   ----------------------------- ---------- 2.0/2.7 GB 63.5 MB/s eta 0:00:12\n",
      "   ----------------------------- ---------- 2.0/2.7 GB 64.0 MB/s eta 0:00:12\n",
      "   ----------------------------- ---------- 2.0/2.7 GB 63.8 MB/s eta 0:00:11\n",
      "   ----------------------------- ---------- 2.0/2.7 GB 63.8 MB/s eta 0:00:11\n",
      "   ------------------------------ --------- 2.1/2.7 GB 63.7 MB/s eta 0:00:11\n",
      "   ------------------------------ --------- 2.1/2.7 GB 63.4 MB/s eta 0:00:11\n",
      "   ------------------------------ --------- 2.1/2.7 GB 63.4 MB/s eta 0:00:11\n",
      "   ------------------------------ --------- 2.1/2.7 GB 61.2 MB/s eta 0:00:11\n",
      "   ------------------------------ --------- 2.1/2.7 GB 61.1 MB/s eta 0:00:11\n",
      "   ------------------------------ --------- 2.1/2.7 GB 61.5 MB/s eta 0:00:11\n",
      "   ------------------------------- -------- 2.1/2.7 GB 60.6 MB/s eta 0:00:10\n",
      "   ------------------------------- -------- 2.1/2.7 GB 61.4 MB/s eta 0:00:10\n",
      "   ------------------------------- -------- 2.2/2.7 GB 61.2 MB/s eta 0:00:10\n",
      "   ------------------------------- -------- 2.2/2.7 GB 61.5 MB/s eta 0:00:10\n",
      "   -------------------------------- ------- 2.2/2.7 GB 61.5 MB/s eta 0:00:09\n",
      "   -------------------------------- ------- 2.2/2.7 GB 61.5 MB/s eta 0:00:09\n",
      "   -------------------------------- ------- 2.2/2.7 GB 61.1 MB/s eta 0:00:09\n",
      "   -------------------------------- ------- 2.2/2.7 GB 60.8 MB/s eta 0:00:09\n",
      "   -------------------------------- ------- 2.2/2.7 GB 60.2 MB/s eta 0:00:09\n",
      "   --------------------------------- ------ 2.3/2.7 GB 64.8 MB/s eta 0:00:08\n",
      "   --------------------------------- ------ 2.3/2.7 GB 64.8 MB/s eta 0:00:08\n",
      "   --------------------------------- ------ 2.3/2.7 GB 63.3 MB/s eta 0:00:08\n",
      "   --------------------------------- ------ 2.3/2.7 GB 63.3 MB/s eta 0:00:07\n",
      "   --------------------------------- ------ 2.3/2.7 GB 63.6 MB/s eta 0:00:07\n",
      "   ---------------------------------- ----- 2.3/2.7 GB 69.4 MB/s eta 0:00:06\n",
      "   ---------------------------------- ----- 2.3/2.7 GB 65.9 MB/s eta 0:00:06\n",
      "   ---------------------------------- ----- 2.4/2.7 GB 65.6 MB/s eta 0:00:06\n",
      "   ---------------------------------- ----- 2.4/2.7 GB 65.5 MB/s eta 0:00:06\n",
      "   ---------------------------------- ----- 2.4/2.7 GB 65.7 MB/s eta 0:00:06\n",
      "   ----------------------------------- ---- 2.4/2.7 GB 67.4 MB/s eta 0:00:06\n",
      "   ----------------------------------- ---- 2.4/2.7 GB 64.5 MB/s eta 0:00:06\n",
      "   ----------------------------------- ---- 2.4/2.7 GB 63.1 MB/s eta 0:00:06\n",
      "   ----------------------------------- ---- 2.4/2.7 GB 63.4 MB/s eta 0:00:05\n",
      "   ----------------------------------- ---- 2.4/2.7 GB 62.8 MB/s eta 0:00:05\n",
      "   ----------------------------------- ---- 2.5/2.7 GB 62.9 MB/s eta 0:00:05\n",
      "   ------------------------------------ --- 2.5/2.7 GB 62.1 MB/s eta 0:00:05\n",
      "   ------------------------------------ --- 2.5/2.7 GB 62.2 MB/s eta 0:00:05\n",
      "   ------------------------------------ --- 2.5/2.7 GB 63.3 MB/s eta 0:00:04\n",
      "   ------------------------------------ --- 2.5/2.7 GB 63.4 MB/s eta 0:00:04\n",
      "   ------------------------------------ --- 2.5/2.7 GB 64.0 MB/s eta 0:00:04\n",
      "   ------------------------------------- -- 2.5/2.7 GB 63.6 MB/s eta 0:00:04\n",
      "   ------------------------------------- -- 2.5/2.7 GB 63.6 MB/s eta 0:00:03\n",
      "   ------------------------------------- -- 2.6/2.7 GB 63.3 MB/s eta 0:00:03\n",
      "   ------------------------------------- -- 2.6/2.7 GB 63.7 MB/s eta 0:00:03\n",
      "   -------------------------------------- - 2.6/2.7 GB 63.6 MB/s eta 0:00:03\n",
      "   -------------------------------------- - 2.6/2.7 GB 63.6 MB/s eta 0:00:02\n",
      "   -------------------------------------- - 2.6/2.7 GB 63.5 MB/s eta 0:00:02\n",
      "   -------------------------------------- - 2.6/2.7 GB 64.1 MB/s eta 0:00:02\n",
      "   -------------------------------------- - 2.6/2.7 GB 63.5 MB/s eta 0:00:02\n",
      "   ---------------------------------------  2.7/2.7 GB 63.8 MB/s eta 0:00:02\n",
      "   ---------------------------------------  2.7/2.7 GB 66.7 MB/s eta 0:00:01\n",
      "   ---------------------------------------  2.7/2.7 GB 64.8 MB/s eta 0:00:01\n",
      "   ---------------------------------------  2.7/2.7 GB 66.0 MB/s eta 0:00:01\n",
      "   ---------------------------------------  2.7/2.7 GB 66.5 MB/s eta 0:00:01\n",
      "   ---------------------------------------  2.7/2.7 GB 66.6 MB/s eta 0:00:01\n",
      "   ---------------------------------------  2.7/2.7 GB 66.6 MB/s eta 0:00:01\n",
      "   ---------------------------------------  2.7/2.7 GB 66.6 MB/s eta 0:00:01\n",
      "   ---------------------------------------  2.7/2.7 GB 66.6 MB/s eta 0:00:01\n",
      "   ---------------------------------------  2.7/2.7 GB 66.6 MB/s eta 0:00:01\n",
      "   ---------------------------------------  2.7/2.7 GB 66.6 MB/s eta 0:00:01\n",
      "   ---------------------------------------  2.7/2.7 GB 66.6 MB/s eta 0:00:01\n",
      "   ---------------------------------------  2.7/2.7 GB 66.6 MB/s eta 0:00:01\n",
      "   ---------------------------------------  2.7/2.7 GB 66.6 MB/s eta 0:00:01\n",
      "   ---------------------------------------  2.7/2.7 GB 66.6 MB/s eta 0:00:01\n",
      "   ---------------------------------------  2.7/2.7 GB 66.6 MB/s eta 0:00:01\n",
      "   ---------------------------------------  2.7/2.7 GB 66.6 MB/s eta 0:00:01\n",
      "   ---------------------------------------  2.7/2.7 GB 66.6 MB/s eta 0:00:01\n",
      "   ---------------------------------------  2.7/2.7 GB 66.6 MB/s eta 0:00:01\n",
      "   ---------------------------------------- 2.7/2.7 GB 38.9 MB/s eta 0:00:00\n",
      "Using cached https://download.pytorch.org/whl/cu118/torchvision-0.21.0%2Bcu118-cp313-cp313-win_amd64.whl (5.3 MB)\n",
      "Installing collected packages: torch, torchvision\n",
      "Successfully installed torch-2.6.0+cu118 torchvision-0.21.0+cu118\n"
     ]
    }
   ],
   "source": [
    "!pip3 install torch torchvision --index-url https://download.pytorch.org/whl/cu118"
   ]
  },
  {
   "cell_type": "markdown",
   "metadata": {},
   "source": [
    "Пробуем использовать cuda для torch. Инициализируем transform:\n",
    "- с переводом в greyscale;\n",
    "- ресайз до 224 на 224 (на чем была обучена бейзлайн модель);\n",
    "- в формат tensor;\n",
    "- с нормализацией.\n",
    "\n",
    "Инициализируем даталоадеры для train выборки и validation выборки."
   ]
  },
  {
   "cell_type": "code",
   "execution_count": 2,
   "metadata": {},
   "outputs": [
    {
     "name": "stdout",
     "output_type": "stream",
     "text": [
      "device: cuda\n"
     ]
    }
   ],
   "source": [
    "import torch\n",
    "from torchvision import datasets, transforms\n",
    "from torch.utils.data import DataLoader\n",
    "from torchvision.models import resnet18, vit_b_16\n",
    "import torch.nn as nn\n",
    "import torch.optim as optim\n",
    "#import random\n",
    "#from torch.utils.data import Subset\n",
    "\n",
    "device = torch.device(\"cuda\" if torch.cuda.is_available() else \"cpu\")\n",
    "print(\"device:\", device)\n",
    "\n",
    "transform = transforms.Compose([\n",
    "    transforms.Grayscale(num_output_channels=3),\n",
    "    transforms.Resize((224, 224)),\n",
    "    transforms.ToTensor(),\n",
    "    transforms.Normalize([0.5], [0.5])\n",
    "])\n",
    "vit_transform = transforms.Compose([\n",
    "    transforms.Grayscale(num_output_channels=3),\n",
    "    transforms.Resize((224, 224)),\n",
    "    transforms.ToTensor(),\n",
    "    transforms.Normalize(mean=[0.485, 0.456, 0.406],\n",
    "                         std=[0.229, 0.224, 0.225])\n",
    "])\n",
    "train_data = datasets.ImageFolder(\"data/FER2013_7emotions_Uniform_Augmented_Dataset/train\", transform=transform)\n",
    "train_data_vit = datasets.ImageFolder(\"data/FER2013_7emotions_Uniform_Augmented_Dataset/train\", transform=vit_transform)\n",
    "\n",
    "#subset = random.sample(range(len(train_data)), int(0.2 * len(train_data)))\n",
    "#train_subset = Subset(train_data, subset) ###\n",
    "# batchsize будет 32\n",
    "train_loader = DataLoader(train_data, batch_size=32, shuffle=True)\n",
    "train_loader_vit = DataLoader(train_data_vit, batch_size=32, shuffle=True)\n",
    "#val_loader = DataLoader(val_data, batch_size=32, shuffle=False)\n",
    "\n",
    "num_classes = len(train_data.classes)\n"
   ]
  },
  {
   "cell_type": "markdown",
   "metadata": {},
   "source": [
    "В качестве сверточной модели будем использовать resnet18. скачаем ее и сделаем свою функцию для обучения"
   ]
  },
  {
   "cell_type": "code",
   "execution_count": 3,
   "metadata": {},
   "outputs": [
    {
     "name": "stderr",
     "output_type": "stream",
     "text": [
      "d:\\Code\\AI_labs_2\\.venv\\Lib\\site-packages\\torchvision\\models\\_utils.py:208: UserWarning: The parameter 'pretrained' is deprecated since 0.13 and may be removed in the future, please use 'weights' instead.\n",
      "  warnings.warn(\n",
      "d:\\Code\\AI_labs_2\\.venv\\Lib\\site-packages\\torchvision\\models\\_utils.py:223: UserWarning: Arguments other than a weight enum or `None` for 'weights' are deprecated since 0.13 and may be removed in the future. The current behavior is equivalent to passing `weights=ResNet18_Weights.IMAGENET1K_V1`. You can also use `weights=ResNet18_Weights.DEFAULT` to get the most up-to-date weights.\n",
      "  warnings.warn(msg)\n"
     ]
    }
   ],
   "source": [
    "# загружаем модель resnet, меняем ей входной слой\n",
    "model_cnn = resnet18(pretrained=True)\n",
    "model_cnn.fc = nn.Linear(model_cnn.fc.in_features, num_classes)\n",
    "\n",
    "#отправляем на gpu\n",
    "model_cnn.to(device)\n",
    "criterion = nn.CrossEntropyLoss()\n",
    "optimizer = optim.Adam(model_cnn.parameters(), lr=0.01) #lr пока поставим 0.01\n",
    "\n",
    "#фнукция для обучения моделей с промежуточным выводом\n",
    "def train_model(model, train_loader, val_loader, optimizer, epochs=3):\n",
    "    for epoch in range(epochs):\n",
    "        model.train()\n",
    "        total_loss, total_correct = 0, 0\n",
    "\n",
    "        total = len(train_loader)\n",
    "        i = 0\n",
    "        for images, labels in train_loader:\n",
    "            if i % 250 == 0:\n",
    "                print(i,\"/\", total)\n",
    "            i+=1\n",
    "            images, labels = images.to(device), labels.to(device)\n",
    "\n",
    "            optimizer.zero_grad()\n",
    "            outputs = model(images)\n",
    "            loss = criterion(outputs, labels)\n",
    "            loss.backward()\n",
    "            optimizer.step()\n",
    "\n",
    "            total_loss += loss.item()\n",
    "            total_correct += (outputs.argmax(1) == labels).sum().item()\n",
    "\n",
    "        print(f\"epoch {epoch+1}: loss: {total_loss/len(train_loader):.4f}, accuracy- {total_correct/len(train_data):.4f}\")\n",
    "\n"
   ]
  },
  {
   "cell_type": "markdown",
   "metadata": {},
   "source": [
    "Теперь запустим обучение"
   ]
  },
  {
   "cell_type": "code",
   "execution_count": null,
   "metadata": {},
   "outputs": [
    {
     "name": "stdout",
     "output_type": "stream",
     "text": [
      "0 / 1750\n",
      "250 / 1750\n",
      "500 / 1750\n",
      "750 / 1750\n",
      "1000 / 1750\n",
      "1250 / 1750\n",
      "1500 / 1750\n",
      "epoch 1: loss: 1.9463, accuracy- 0.1890\n",
      "0 / 1750\n",
      "250 / 1750\n",
      "500 / 1750\n",
      "750 / 1750\n",
      "1000 / 1750\n",
      "1250 / 1750\n",
      "1500 / 1750\n",
      "epoch 2: loss: 1.7097, accuracy- 0.3270\n",
      "0 / 1750\n",
      "250 / 1750\n",
      "500 / 1750\n",
      "750 / 1750\n",
      "1000 / 1750\n",
      "1250 / 1750\n",
      "1500 / 1750\n",
      "epoch 3: loss: 1.2993, accuracy- 0.5103\n",
      "0 / 1750\n",
      "250 / 1750\n",
      "500 / 1750\n",
      "750 / 1750\n",
      "1000 / 1750\n",
      "1250 / 1750\n",
      "1500 / 1750\n",
      "epoch 4: loss: 1.1050, accuracy- 0.5815\n",
      "0 / 1750\n",
      "250 / 1750\n",
      "500 / 1750\n",
      "750 / 1750\n",
      "1000 / 1750\n",
      "1250 / 1750\n",
      "1500 / 1750\n",
      "epoch 5: loss: 0.9655, accuracy- 0.6378\n"
     ]
    }
   ],
   "source": [
    "train_model(model_cnn, train_loader, None, optimizer=optimizer, epochs=5)"
   ]
  },
  {
   "cell_type": "markdown",
   "metadata": {},
   "source": [
    "Получаем неплохой итоговый accuracy = 0.6378, loss 0.965 после 5 эпох с lr=0.01. Видна положительная динамика и можно сделать вывод, что при большем числе эпох accuracy будет еще выше."
   ]
  },
  {
   "cell_type": "markdown",
   "metadata": {},
   "source": [
    "Теперь загрузим трансформерную модель - будем использовать ViT."
   ]
  },
  {
   "cell_type": "code",
   "execution_count": 12,
   "metadata": {},
   "outputs": [
    {
     "name": "stderr",
     "output_type": "stream",
     "text": [
      "d:\\Code\\AI_labs_2\\.venv\\Lib\\site-packages\\torchvision\\models\\_utils.py:223: UserWarning: Arguments other than a weight enum or `None` for 'weights' are deprecated since 0.13 and may be removed in the future. The current behavior is equivalent to passing `weights=ViT_B_16_Weights.IMAGENET1K_V1`. You can also use `weights=ViT_B_16_Weights.DEFAULT` to get the most up-to-date weights.\n",
      "  warnings.warn(msg)\n"
     ]
    }
   ],
   "source": [
    "model_vit = vit_b_16(pretrained=True)\n",
    "model_vit.heads.head = nn.Linear(model_vit.heads.head.in_features, num_classes)\n",
    "\n",
    "\n",
    "model_vit.to(device)\n",
    "\n",
    "# используем SGD\n",
    "optimizer_vit = optim.SGD(model_vit.parameters(), lr=0.001, momentum=0.9)"
   ]
  },
  {
   "cell_type": "markdown",
   "metadata": {},
   "source": [
    "Запускаем обучение на 3 эпохах (т.к. обучение занимает слишком продолжительное время на моей машине)"
   ]
  },
  {
   "cell_type": "code",
   "execution_count": 9,
   "metadata": {},
   "outputs": [
    {
     "name": "stdout",
     "output_type": "stream",
     "text": [
      "0 / 1750\n",
      "250 / 1750\n",
      "500 / 1750\n",
      "750 / 1750\n",
      "1000 / 1750\n",
      "1250 / 1750\n",
      "1500 / 1750\n",
      "epoch 1: loss: 1.7775, accuracy- 0.3120\n",
      "0 / 1750\n",
      "250 / 1750\n",
      "500 / 1750\n",
      "750 / 1750\n",
      "1000 / 1750\n",
      "1250 / 1750\n",
      "1500 / 1750\n",
      "epoch 2: loss: 1.6087, accuracy- 0.4076\n",
      "0 / 1750\n",
      "250 / 1750\n",
      "500 / 1750\n",
      "750 / 1750\n",
      "1000 / 1750\n",
      "1250 / 1750\n",
      "1500 / 1750\n",
      "epoch 3: loss: 1.5410, accuracy- 0.4349\n"
     ]
    }
   ],
   "source": [
    "train_model(model_vit, train_loader_vit, None, optimizer=optimizer_vit, epochs=3)"
   ]
  },
  {
   "cell_type": "markdown",
   "metadata": {},
   "source": [
    "Получаем accuracy = 0.4349, можно сделать вывод, что при большем числе эпох можно получить результат, близкий к 0.5"
   ]
  },
  {
   "cell_type": "markdown",
   "metadata": {},
   "source": [
    "## 3. Улучшение бейзлайна"
   ]
  },
  {
   "cell_type": "markdown",
   "metadata": {},
   "source": [
    "### Гипотезы\n",
    "Добавим `RandomHorizontalFlip` (случайное отображение по горизонтали), `RandomRotation` (случайный поворот), `RandomCrop` (случайное обрезание), чтобы обучать на более разнообразных изображениях - это должно улучшить accuracy.\n",
    "\n",
    "Так же поменяем learning rate, добавим scheduler"
   ]
  },
  {
   "cell_type": "code",
   "execution_count": null,
   "metadata": {},
   "outputs": [],
   "source": [
    "from torchvision import transforms\n",
    "\n",
    "# добавляем случайности\n",
    "train_transform = transforms.Compose([\n",
    "    transforms.Grayscale(num_output_channels=3),\n",
    "    transforms.RandomHorizontalFlip(),\n",
    "    transforms.RandomRotation(10),\n",
    "    transforms.RandomResizedCrop(224, scale=(0.9, 1.0)),\n",
    "    transforms.ToTensor(),\n",
    "    transforms.Normalize([0.5], [0.5])\n",
    "])\n",
    "\n",
    "vit_transform = transforms.Compose([\n",
    "    transforms.Grayscale(num_output_channels=3),\n",
    "    transforms.Resize((224, 224)),\n",
    "    transforms.RandomHorizontalFlip(),\n",
    "    transforms.RandomRotation(10),\n",
    "    transforms.RandomResizedCrop(224, scale=(0.9, 1.0)),\n",
    "    transforms.ToTensor(),\n",
    "    transforms.Normalize(mean=[0.485, 0.456, 0.406],\n",
    "                         std=[0.229, 0.224, 0.225])\n",
    "])\n",
    "\n",
    "train_data = datasets.ImageFolder(\"data/FER2013_7emotions_Uniform_Augmented_Dataset/train\", transform=train_transform)\n",
    "# val_data = datasets.ImageFolder(\"data/FER2013_7emotions_Uniform_Augmented_Dataset/validation\", transform=val_transform)\n",
    "train_data_vit = datasets.ImageFolder(\"data/FER2013_7emotions_Uniform_Augmented_Dataset/train\", transform=vit_transform)\n",
    "\n",
    "train_loader = DataLoader(train_data, batch_size=32, shuffle=True)\n",
    "train_loader_vit = DataLoader(train_data_vit, batch_size=32, shuffle=True)\n",
    "# val_loader = DataLoader(val_data, batch_size=32, shuffle=False)"
   ]
  },
  {
   "cell_type": "markdown",
   "metadata": {},
   "source": [
    "Обучим бейзлайн ResNet модель с использованием предложенных гипотез улучшения:"
   ]
  },
  {
   "cell_type": "code",
   "execution_count": 11,
   "metadata": {},
   "outputs": [
    {
     "name": "stderr",
     "output_type": "stream",
     "text": [
      "d:\\Code\\AI_labs_2\\.venv\\Lib\\site-packages\\torchvision\\models\\_utils.py:208: UserWarning: The parameter 'pretrained' is deprecated since 0.13 and may be removed in the future, please use 'weights' instead.\n",
      "  warnings.warn(\n",
      "d:\\Code\\AI_labs_2\\.venv\\Lib\\site-packages\\torchvision\\models\\_utils.py:223: UserWarning: Arguments other than a weight enum or `None` for 'weights' are deprecated since 0.13 and may be removed in the future. The current behavior is equivalent to passing `weights=ResNet18_Weights.IMAGENET1K_V1`. You can also use `weights=ResNet18_Weights.DEFAULT` to get the most up-to-date weights.\n",
      "  warnings.warn(msg)\n"
     ]
    }
   ],
   "source": [
    "from torchvision.models import resnet18\n",
    "model = resnet18(pretrained=True)\n",
    "model.fc = nn.Linear(model.fc.in_features, num_classes)\n",
    "model.to(device)\n",
    "\n",
    "optimizer = optim.Adam(model.parameters(), lr=0.001)\n",
    "scheduler = optim.lr_scheduler.StepLR(optimizer, step_size=3, gamma=0.5)\n",
    "criterion = nn.CrossEntropyLoss()"
   ]
  },
  {
   "cell_type": "markdown",
   "metadata": {},
   "source": [
    "train_model с возможностью выполнять scheduler.step()"
   ]
  },
  {
   "cell_type": "code",
   "execution_count": 5,
   "metadata": {},
   "outputs": [],
   "source": [
    "def train_model(model, train_loader, val_loader, optimizer, epochs=5):\n",
    "    for epoch in range(epochs):\n",
    "        model.train()\n",
    "        train_loss, train_correct = 0, 0\n",
    "        total = len(train_loader)\n",
    "        i = 0\n",
    "        for images, labels in train_loader:\n",
    "            if i % 250 == 0:\n",
    "                print(i,\"/\", total)\n",
    "            i+=1\n",
    "            images, labels = images.to(device), labels.to(device)\n",
    "            optimizer.zero_grad()\n",
    "            outputs = model(images)\n",
    "            loss = criterion(outputs, labels)\n",
    "            loss.backward()\n",
    "            optimizer.step()\n",
    "\n",
    "            train_loss += loss.item()\n",
    "            train_correct += (outputs.argmax(1) == labels).sum().item()\n",
    "        \n",
    "        scheduler.step()\n",
    "        print(f\"epoch {epoch+1}: loss: {train_loss/len(train_loader):.4f}, accuracy- {train_correct/len(train_data):.4f}\")"
   ]
  },
  {
   "cell_type": "markdown",
   "metadata": {},
   "source": [
    "Запуск обучения"
   ]
  },
  {
   "cell_type": "code",
   "execution_count": 17,
   "metadata": {},
   "outputs": [
    {
     "name": "stdout",
     "output_type": "stream",
     "text": [
      "0 / 1750\n",
      "250 / 1750\n",
      "500 / 1750\n",
      "750 / 1750\n",
      "1000 / 1750\n",
      "1250 / 1750\n",
      "1500 / 1750\n",
      "epoch 1: loss: 1.3059, accuracy- 0.5071\n",
      "0 / 1750\n",
      "250 / 1750\n",
      "500 / 1750\n",
      "750 / 1750\n",
      "1000 / 1750\n",
      "1250 / 1750\n",
      "1500 / 1750\n",
      "epoch 2: loss: 1.0888, accuracy- 0.5927\n",
      "0 / 1750\n",
      "250 / 1750\n",
      "500 / 1750\n",
      "750 / 1750\n",
      "1000 / 1750\n",
      "1250 / 1750\n",
      "1500 / 1750\n",
      "epoch 3: loss: 0.9834, accuracy- 0.6306\n",
      "0 / 1750\n",
      "250 / 1750\n",
      "500 / 1750\n",
      "750 / 1750\n",
      "1000 / 1750\n",
      "1250 / 1750\n",
      "1500 / 1750\n",
      "epoch 4: loss: 0.8243, accuracy- 0.6901\n",
      "0 / 1750\n",
      "250 / 1750\n",
      "500 / 1750\n",
      "750 / 1750\n",
      "1000 / 1750\n",
      "1250 / 1750\n",
      "1500 / 1750\n",
      "epoch 5: loss: 0.7588, accuracy- 0.7152\n"
     ]
    }
   ],
   "source": [
    "train_model(model, train_loader, None, optimizer=optimizer, epochs=5)"
   ]
  },
  {
   "cell_type": "markdown",
   "metadata": {},
   "source": [
    "Получаем accuracy = 0.7152, что больше, чем без улучшений. Значит, что рандомизация и scheduler действительно помогли улучшить бейзлайн."
   ]
  },
  {
   "cell_type": "markdown",
   "metadata": {},
   "source": [
    "Теперь проделаем тот же алгоритм для ViT модели:"
   ]
  },
  {
   "cell_type": "code",
   "execution_count": 19,
   "metadata": {},
   "outputs": [
    {
     "name": "stderr",
     "output_type": "stream",
     "text": [
      "d:\\Code\\AI_labs_2\\.venv\\Lib\\site-packages\\torchvision\\models\\_utils.py:208: UserWarning: The parameter 'pretrained' is deprecated since 0.13 and may be removed in the future, please use 'weights' instead.\n",
      "  warnings.warn(\n",
      "d:\\Code\\AI_labs_2\\.venv\\Lib\\site-packages\\torchvision\\models\\_utils.py:223: UserWarning: Arguments other than a weight enum or `None` for 'weights' are deprecated since 0.13 and may be removed in the future. The current behavior is equivalent to passing `weights=ViT_B_16_Weights.IMAGENET1K_V1`. You can also use `weights=ViT_B_16_Weights.DEFAULT` to get the most up-to-date weights.\n",
      "  warnings.warn(msg)\n"
     ]
    }
   ],
   "source": [
    "model_vit = vit_b_16(pretrained=True)\n",
    "model_vit.heads.head = nn.Linear(model_vit.heads.head.in_features, len(train_data.classes))\n",
    "model_vit.to(device)\n",
    "\n",
    "criterion = nn.CrossEntropyLoss()\n",
    "optimizer_vit = optim.SGD(model_vit.parameters(), lr=0.0001, momentum=0.9)\n",
    "scheduler = optim.lr_scheduler.StepLR(optimizer, step_size=3, gamma=0.5)\n"
   ]
  },
  {
   "cell_type": "markdown",
   "metadata": {},
   "source": [
    "Обучим модель:"
   ]
  },
  {
   "cell_type": "code",
   "execution_count": 20,
   "metadata": {},
   "outputs": [
    {
     "name": "stdout",
     "output_type": "stream",
     "text": [
      "0 / 1750\n",
      "250 / 1750\n",
      "500 / 1750\n",
      "750 / 1750\n",
      "1000 / 1750\n",
      "1250 / 1750\n",
      "1500 / 1750\n",
      "epoch 1: loss: 1.4465, accuracy- 0.4555\n",
      "0 / 1750\n",
      "250 / 1750\n",
      "500 / 1750\n",
      "750 / 1750\n",
      "1000 / 1750\n",
      "1250 / 1750\n",
      "1500 / 1750\n",
      "epoch 2: loss: 1.1229, accuracy- 0.5782\n",
      "0 / 1750\n",
      "250 / 1750\n",
      "500 / 1750\n",
      "750 / 1750\n",
      "1000 / 1750\n",
      "1250 / 1750\n",
      "1500 / 1750\n",
      "epoch 3: loss: 0.9972, accuracy- 0.6272\n"
     ]
    }
   ],
   "source": [
    "train_model(model_vit, train_loader_vit, None, optimizer=optimizer_vit, epochs=3)"
   ]
  },
  {
   "cell_type": "markdown",
   "metadata": {},
   "source": [
    "Получаем accuracy = 0.6272, что так же больше, чем в бейзлайне. Удалось сильно улучшить уровень точности модели, оставив для обучения те же 3 эпохи."
   ]
  },
  {
   "cell_type": "markdown",
   "metadata": {},
   "source": [
    "## 4. Имплементация алгоритма машинного обучения\n"
   ]
  },
  {
   "cell_type": "markdown",
   "metadata": {},
   "source": [
    "На данном шаге самостоятельно имплементируем сверточную и трансформер модели машинного обучения."
   ]
  },
  {
   "cell_type": "code",
   "execution_count": 3,
   "metadata": {},
   "outputs": [],
   "source": [
    "import torch.nn as nn\n",
    "import torch.nn.functional as F\n",
    "\n",
    "class MyCNN(nn.Module):\n",
    "    def __init__(self, num_classes):\n",
    "        super(MyCNN, self).__init__()\n",
    "        self.features = nn.Sequential(\n",
    "            nn.Conv2d(3, 32, kernel_size=3, padding=1),  \n",
    "            nn.ReLU(inplace=True),\n",
    "            nn.BatchNorm2d(32),\n",
    "            nn.MaxPool2d(2),\n",
    "\n",
    "            nn.Conv2d(32, 64, kernel_size=3, padding=1),\n",
    "            nn.ReLU(inplace=True),\n",
    "            nn.BatchNorm2d(64),\n",
    "            nn.MaxPool2d(2),\n",
    "\n",
    "            nn.Conv2d(64, 128, kernel_size=3, padding=1),\n",
    "            nn.ReLU(inplace=True),\n",
    "            nn.BatchNorm2d(128),\n",
    "            nn.MaxPool2d(2)\n",
    "        )\n",
    "\n",
    "        self.dropout = nn.Dropout(0.4)\n",
    "        self.flatten = nn.Flatten()\n",
    "        self.fc1 = nn.Linear(128 * 28 * 28, 256)\n",
    "        self.fc2 = nn.Linear(256, num_classes)\n",
    "\n",
    "    def forward(self, x):\n",
    "        x = self.features(x)\n",
    "        x = self.dropout(x)\n",
    "        x = self.flatten(x)\n",
    "        x = F.relu(self.fc1(x))\n",
    "        x = self.fc2(x)\n",
    "        return x\n",
    "\n"
   ]
  },
  {
   "cell_type": "markdown",
   "metadata": {},
   "source": [
    "Самостоятельная имплементация трансформера:"
   ]
  },
  {
   "cell_type": "code",
   "execution_count": null,
   "metadata": {},
   "outputs": [],
   "source": [
    "class PatchEmbedding(nn.Module):\n",
    "    def __init__(self, in_channels=3, patch_size=16, emb_size=256, img_size=224):\n",
    "        super().__init__()\n",
    "        self.patch_size = patch_size\n",
    "        self.proj = nn.Conv2d(in_channels, emb_size, kernel_size=patch_size, stride=patch_size)\n",
    "        self.cls_token = nn.Parameter(torch.randn(1, 1,emb_size))\n",
    "        num_patches = (img_size // patch_size)**2\n",
    "        self.pos_emb = nn.Parameter(torch.randn(1, num_patches +1,emb_size))\n",
    "\n",
    "    def forward(self, x):\n",
    "        B = x.size(0)\n",
    "        x = self.proj(x).flatten(2).transpose(1, 2)\n",
    "        cls_token = self.cls_token.expand(B, -1, -1)\n",
    "        x = torch.cat([cls_token, x], dim=1)\n",
    "        return x + self.pos_emb\n",
    "class TransformerEncoder(nn.Module):\n",
    "    def __init__(self, emb_size=256, heads=4, dropout=0.1):\n",
    "        super().__init__()\n",
    "        self.attn = nn.MultiheadAttention(emb_size, heads, dropout=dropout,   batch_first=True)\n",
    "        self.norm1 = nn.LayerNorm(emb_size)\n",
    "        self.norm2 = nn.LayerNorm(emb_size)\n",
    "        self.ff = nn.Sequential(\n",
    "            nn.Linear(emb_size, emb_size * 4),\n",
    "            nn.ReLU(),\n",
    "            nn.Linear(emb_size * 4, emb_size)\n",
    "        )\n",
    "        self.dropout = nn.Dropout(dropout)\n",
    "\n",
    "    def forward(self, x):\n",
    "        attn_output, _ = self.attn(x, x, x)\n",
    "        x = self.norm1(x + self.dropout(attn_output))\n",
    "        x = self.norm2(x + self.dropout(self.ff(x)))\n",
    "        return x\n",
    "#делаем свой трансфомер\n",
    "class MyViT(nn.Module):\n",
    "    def __init__(self, img_size=224, patch_size=16, in_channels=3 ,  num_classes=7, emb_size=256,  depth=6):\n",
    "        super().__init__()\n",
    "        self.patch_embed = PatchEmbedding(in_channels, patch_size, emb_size, img_size)\n",
    "        self.transformer = nn.Sequential(*[TransformerEncoder(emb_size) for _ in range(depth)])\n",
    "        self.mlp_head = nn.Sequential(\n",
    "            nn.LayerNorm(emb_size),\n",
    "            nn.Linear(emb_size, num_classes)\n",
    "        )\n",
    "    def forward(self, x):\n",
    "        x = self.patch_embed(x)\n",
    "        x = self.transformer(x)\n",
    "        return self.mlp_head(x[:, 0])\n"
   ]
  },
  {
   "cell_type": "markdown",
   "metadata": {},
   "source": [
    "Создадим экземпляры классов CNN и ViT моделей:"
   ]
  },
  {
   "cell_type": "code",
   "execution_count": 5,
   "metadata": {},
   "outputs": [],
   "source": [
    "cnn_model = MyCNN(num_classes=len(train_data.classes)).to(device)\n",
    "vit_model = MyViT(num_classes=len(train_data.classes)).to(device)\n",
    "\n",
    "criterion = nn.CrossEntropyLoss()\n",
    "optimizer = optim.Adam(cnn_model.parameters(), lr=0.0001)\n",
    "optimizer_vit = optim.SGD(vit_model.parameters(), lr=0.001, momentum=0.9)"
   ]
  },
  {
   "cell_type": "code",
   "execution_count": 6,
   "metadata": {},
   "outputs": [],
   "source": [
    "def train_model(model, train_loader, val_loader, optimizer, epochs=3):\n",
    "    for epoch in range(epochs):\n",
    "        model.train()\n",
    "        total_loss, total_correct = 0, 0\n",
    "\n",
    "        total = len(train_loader)\n",
    "        i = 0\n",
    "        for images, labels in train_loader:\n",
    "            if i % 250 == 0:\n",
    "                print(i,\"/\", total)\n",
    "            i+=1\n",
    "            images, labels = images.to(device), labels.to(device)\n",
    "\n",
    "            optimizer.zero_grad()\n",
    "            outputs = model(images)\n",
    "            loss = criterion(outputs, labels)\n",
    "            loss.backward()\n",
    "            optimizer.step()\n",
    "\n",
    "            total_loss += loss.item()\n",
    "            total_correct += (outputs.argmax(1) == labels).sum().item()\n",
    "\n",
    "        print(f\"epoch {epoch+1}: loss: {total_loss/len(train_loader):.4f}, accuracy- {total_correct/len(train_data):.4f}\")"
   ]
  },
  {
   "cell_type": "code",
   "execution_count": 7,
   "metadata": {},
   "outputs": [],
   "source": [
    "transform = transforms.Compose([\n",
    "    transforms.Grayscale(num_output_channels=3),\n",
    "    transforms.Resize((224, 224)),\n",
    "    transforms.ToTensor(),\n",
    "    transforms.Normalize([0.5], [0.5])\n",
    "])\n",
    "vit_transform = transforms.Compose([\n",
    "    transforms.Grayscale(num_output_channels=3),\n",
    "    transforms.Resize((224, 224)),\n",
    "    transforms.ToTensor(),\n",
    "    transforms.Normalize(mean=[0.485, 0.456, 0.406],\n",
    "                         std=[0.229, 0.224, 0.225])\n",
    "])\n",
    "train_data = datasets.ImageFolder(\"data/FER2013_7emotions_Uniform_Augmented_Dataset/train\", transform=transform)\n",
    "train_data_vit = datasets.ImageFolder(\"data/FER2013_7emotions_Uniform_Augmented_Dataset/train\", transform=vit_transform)\n",
    "\n",
    "#subset = random.sample(range(len(train_data)), int(0.2 * len(train_data)))\n",
    "#train_subset = Subset(train_data, subset) ###\n",
    "# batchsize будет 32\n",
    "train_loader = DataLoader(train_data, batch_size=32, shuffle=True)\n",
    "train_loader_vit = DataLoader(train_data_vit, batch_size=32, shuffle=True)"
   ]
  },
  {
   "cell_type": "markdown",
   "metadata": {},
   "source": [
    "Обучим модели и проверим полученный accuracy:"
   ]
  },
  {
   "cell_type": "code",
   "execution_count": null,
   "metadata": {},
   "outputs": [
    {
     "name": "stdout",
     "output_type": "stream",
     "text": [
      "0 / 1750\n",
      "250 / 1750\n",
      "500 / 1750\n",
      "750 / 1750\n",
      "1000 / 1750\n",
      "1250 / 1750\n",
      "1500 / 1750\n",
      "epoch 1: loss: 1.5231, accuracy- 0.4167\n",
      "0 / 1750\n",
      "250 / 1750\n",
      "500 / 1750\n",
      "750 / 1750\n",
      "1000 / 1750\n",
      "1250 / 1750\n",
      "1500 / 1750\n",
      "epoch 2: loss: 1.1346, accuracy- 0.5743\n",
      "0 / 1750\n",
      "250 / 1750\n",
      "500 / 1750\n",
      "750 / 1750\n",
      "1000 / 1750\n",
      "1250 / 1750\n",
      "1500 / 1750\n",
      "epoch 3: loss: 0.8201, accuracy- 0.7003\n",
      "0 / 1750\n",
      "250 / 1750\n",
      "500 / 1750\n",
      "750 / 1750\n",
      "1000 / 1750\n",
      "1250 / 1750\n",
      "1500 / 1750\n",
      "epoch 4: loss: 0.5079, accuracy- 0.8222\n",
      "0 / 1750\n",
      "250 / 1750\n",
      "500 / 1750\n",
      "750 / 1750\n",
      "1000 / 1750\n",
      "1250 / 1750\n",
      "1500 / 1750\n",
      "epoch 5: loss: 0.2898, accuracy- 0.9040\n"
     ]
    }
   ],
   "source": [
    "train_model(cnn_model, train_loader, None, optimizer=optimizer, epochs=5)"
   ]
  },
  {
   "cell_type": "markdown",
   "metadata": {},
   "source": [
    "Удалось добавиться очень хорошего показателя accuracy = 0.9040"
   ]
  },
  {
   "cell_type": "code",
   "execution_count": null,
   "metadata": {},
   "outputs": [
    {
     "name": "stdout",
     "output_type": "stream",
     "text": [
      "0 / 1750\n",
      "250 / 1750\n",
      "500 / 1750\n",
      "750 / 1750\n",
      "1000 / 1750\n",
      "1250 / 1750\n",
      "1500 / 1750\n",
      "epoch 1: loss: 1.9398, accuracy- 0.1857\n",
      "0 / 1750\n",
      "250 / 1750\n",
      "500 / 1750\n",
      "750 / 1750\n",
      "1000 / 1750\n",
      "1250 / 1750\n",
      "1500 / 1750\n",
      "epoch 2: loss: 1.8996, accuracy- 0.2134\n",
      "0 / 1750\n",
      "250 / 1750\n",
      "500 / 1750\n",
      "750 / 1750\n",
      "1000 / 1750\n",
      "1250 / 1750\n",
      "1500 / 1750\n",
      "epoch 3: loss: 1.8687, accuracy- 0.2370\n"
     ]
    }
   ],
   "source": [
    "train_model(vit_model, train_loader_vit, None, optimizer=optimizer_vit, epochs=3)"
   ]
  },
  {
   "cell_type": "markdown",
   "metadata": {},
   "source": [
    "Получаем низкий accuracy = 0.2370"
   ]
  },
  {
   "cell_type": "markdown",
   "metadata": {},
   "source": [
    "Примененим техники улучшения бейзлайна, использованные ранее, для самостоятельно имплементированных моделей:"
   ]
  },
  {
   "cell_type": "code",
   "execution_count": null,
   "metadata": {},
   "outputs": [],
   "source": [
    "from torchvision import transforms\n",
    "\n",
    "# добавляем случайности\n",
    "train_transform = transforms.Compose([\n",
    "    transforms.Grayscale(num_output_channels=3),\n",
    "    transforms.RandomHorizontalFlip(),\n",
    "    transforms.RandomRotation(10),\n",
    "    transforms.RandomResizedCrop(224, scale=(0.9, 1.0)),\n",
    "    transforms.ToTensor(),\n",
    "    transforms.Normalize([0.5], [0.5])\n",
    "])\n",
    "\n",
    "vit_transform = transforms.Compose([\n",
    "    transforms.Grayscale(num_output_channels=3),\n",
    "    transforms.Resize((224, 224)),\n",
    "    transforms.RandomHorizontalFlip(),\n",
    "    transforms.RandomRotation(10),\n",
    "    transforms.RandomResizedCrop(224, scale=(0.9, 1.0)),\n",
    "    transforms.ToTensor(),\n",
    "    transforms.Normalize(mean=[0.485, 0.456, 0.406],\n",
    "                         std=[0.229, 0.224, 0.225])\n",
    "])\n",
    "\n",
    "train_data = datasets.ImageFolder(\"data/FER2013_7emotions_Uniform_Augmented_Dataset/train\", transform=train_transform)\n",
    "train_data_vit = datasets.ImageFolder(\"data/FER2013_7emotions_Uniform_Augmented_Dataset/train\", transform=vit_transform)\n",
    "\n",
    "train_loader = DataLoader(train_data, batch_size=32, shuffle=True)\n",
    "train_loader_vit = DataLoader(train_data_vit, batch_size=32, shuffle=True)\n"
   ]
  },
  {
   "cell_type": "code",
   "execution_count": 11,
   "metadata": {},
   "outputs": [],
   "source": [
    "# Для CNN:\n",
    "optimizer = torch.optim.Adam(cnn_model.parameters(), lr=0.0005)\n",
    "scheduler = torch.optim.lr_scheduler.StepLR(optimizer, step_size=3, gamma=0.5)\n"
   ]
  },
  {
   "cell_type": "code",
   "execution_count": null,
   "metadata": {},
   "outputs": [
    {
     "name": "stdout",
     "output_type": "stream",
     "text": [
      "0 / 1750\n",
      "250 / 1750\n",
      "500 / 1750\n",
      "750 / 1750\n",
      "1000 / 1750\n",
      "1250 / 1750\n",
      "1500 / 1750\n",
      "epoch 1: loss: 1.5607, accuracy- 0.4052\n",
      "0 / 1750\n",
      "250 / 1750\n",
      "500 / 1750\n",
      "750 / 1750\n",
      "1000 / 1750\n",
      "1250 / 1750\n",
      "1500 / 1750\n",
      "epoch 2: loss: 1.3927, accuracy- 0.4701\n",
      "0 / 1750\n",
      "250 / 1750\n",
      "500 / 1750\n",
      "750 / 1750\n",
      "1000 / 1750\n",
      "1250 / 1750\n",
      "1500 / 1750\n",
      "epoch 3: loss: 1.3160, accuracy- 0.4999\n",
      "0 / 1750\n",
      "250 / 1750\n",
      "500 / 1750\n",
      "750 / 1750\n",
      "1000 / 1750\n",
      "1250 / 1750\n",
      "1500 / 1750\n",
      "epoch 4: loss: 1.2612, accuracy- 0.5234\n",
      "0 / 1750\n",
      "250 / 1750\n",
      "500 / 1750\n",
      "750 / 1750\n",
      "1000 / 1750\n",
      "1250 / 1750\n",
      "1500 / 1750\n",
      "epoch 5: loss: 1.2114, accuracy- 0.5400\n"
     ]
    }
   ],
   "source": [
    "train_model(cnn_model, train_loader, None, optimizer=optimizer, epochs=5)"
   ]
  },
  {
   "cell_type": "markdown",
   "metadata": {},
   "source": [
    "Получаем accuracy = 0.54. Гипотезы не улучшили бейзлайн"
   ]
  },
  {
   "cell_type": "code",
   "execution_count": 16,
   "metadata": {},
   "outputs": [],
   "source": [
    "# Для ViT:\n",
    "optimizer = torch.optim.SGD(vit_model.parameters(), lr=0.0005)\n",
    "scheduler = torch.optim.lr_scheduler.StepLR(optimizer, step_size=3, gamma=0.5)\n"
   ]
  },
  {
   "cell_type": "code",
   "execution_count": null,
   "metadata": {},
   "outputs": [
    {
     "name": "stdout",
     "output_type": "stream",
     "text": [
      "0 / 1750\n",
      "250 / 1750\n",
      "500 / 1750\n",
      "750 / 1750\n",
      "1000 / 1750\n",
      "1250 / 1750\n",
      "1500 / 1750\n",
      "epoch 1: loss: 1.9464, accuracy- 0.1434\n",
      "0 / 1750\n",
      "250 / 1750\n",
      "500 / 1750\n",
      "750 / 1750\n",
      "1000 / 1750\n",
      "1250 / 1750\n",
      "1500 / 1750\n",
      "epoch 2: loss: 1.9464, accuracy- 0.1434\n",
      "0 / 1750\n",
      "250 / 1750\n",
      "500 / 1750\n",
      "750 / 1750\n",
      "1000 / 1750\n",
      "1250 / 1750\n",
      "1500 / 1750\n",
      "epoch 3: loss: 1.9464, accuracy- 0.1411\n"
     ]
    }
   ],
   "source": [
    "train_model(vit_model, train_loader_vit, None, optimizer=optimizer, epochs=3)"
   ]
  },
  {
   "cell_type": "markdown",
   "metadata": {},
   "source": [
    "Можно сделать вывод, что гипотезы не улучшили бейзлайн собственной реализации трансформерной модели."
   ]
  }
 ],
 "metadata": {
  "kernelspec": {
   "display_name": ".venv",
   "language": "python",
   "name": "python3"
  },
  "language_info": {
   "codemirror_mode": {
    "name": "ipython",
    "version": 3
   },
   "file_extension": ".py",
   "mimetype": "text/x-python",
   "name": "python",
   "nbconvert_exporter": "python",
   "pygments_lexer": "ipython3",
   "version": "3.13.2"
  }
 },
 "nbformat": 4,
 "nbformat_minor": 2
}
